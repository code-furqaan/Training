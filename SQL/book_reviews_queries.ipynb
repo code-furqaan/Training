{
    "metadata": {
        "kernelspec": {
            "name": "SQL",
            "display_name": "SQL",
            "language": "sql"
        },
        "language_info": {
            "name": "sql",
            "version": ""
        }
    },
    "nbformat_minor": 2,
    "nbformat": 4,
    "cells": [
        {
            "cell_type": "markdown",
            "source": [
                "# Advanced Queries\n",
                "\n",
                "#   \n",
                "\n",
                "## Inital Setup\n",
                "\n",
                "1\\. drop database\n",
                "\n",
                "2\\. create tables\n",
                "\n",
                "3\\. add records"
            ],
            "metadata": {
                "azdata_cell_guid": "fdf0e50e-653b-488c-96f1-a35214c636fd"
            },
            "attachments": {}
        },
        {
            "cell_type": "code",
            "source": [
                "use master\n",
                "\n",
                "alter database ecolab_books_db set single_user with rollback immediate\n",
                "\n",
                " \n",
                "drop database ecolab_books_db"
            ],
            "metadata": {
                "azdata_cell_guid": "7d08755c-62e2-4fd0-848d-7ba5f862d1f5",
                "language": "sql"
            },
            "outputs": [
                {
                    "output_type": "display_data",
                    "data": {
                        "text/html": "Commands completed successfully."
                    },
                    "metadata": {}
                },
                {
                    "output_type": "display_data",
                    "data": {
                        "text/html": "Total execution time: 00:00:00.098"
                    },
                    "metadata": {}
                }
            ],
            "execution_count": 3
        },
        {
            "cell_type": "code",
            "source": [
                "CREATE DATABASE ecolab_books_db;\n",
                ""
            ],
            "metadata": {
                "language": "sql",
                "azdata_cell_guid": "3dc4ba7b-90e0-4a5b-9dc2-c00bb5b4a0c1"
            },
            "outputs": [
                {
                    "output_type": "display_data",
                    "data": {
                        "text/html": "Commands completed successfully."
                    },
                    "metadata": {}
                },
                {
                    "output_type": "display_data",
                    "data": {
                        "text/html": "Total execution time: 00:00:00.786"
                    },
                    "metadata": {}
                }
            ],
            "execution_count": 4
        },
        {
            "cell_type": "code",
            "source": [
                "use ecolab_books_db;"
            ],
            "metadata": {
                "language": "sql",
                "azdata_cell_guid": "7a07f7fe-c4c8-4d0e-a4c9-d1f0ab7f1645"
            },
            "outputs": [
                {
                    "output_type": "display_data",
                    "data": {
                        "text/html": "Commands completed successfully."
                    },
                    "metadata": {}
                },
                {
                    "output_type": "display_data",
                    "data": {
                        "text/html": "Total execution time: 00:00:00.001"
                    },
                    "metadata": {}
                }
            ],
            "execution_count": 5
        },
        {
            "cell_type": "markdown",
            "source": [
                "## CREATE THE TABLE\n",
                "\n",
                "NOTE\n",
                "\n",
                "- WE ARE ADDING PRIMARY AND FOREIGN KEY WHILE CREATING THE TABLE\n",
                "- WE ARE ADDING PRIMARY KEY TO REVIEWS ALSO\n",
                "    - THIS KEY WILL AUTO GENERATED INT"
            ],
            "metadata": {
                "azdata_cell_guid": "fae5abff-4027-4b66-b64b-c2752c5262b7"
            },
            "attachments": {}
        },
        {
            "cell_type": "code",
            "source": [
                "CREATE TABLE BOOKS(\n",
                "    id VARCHAR(100) NOT NULL PRIMARY KEY,\n",
                "    title VARCHAR(100) NOT NULL,\n",
                "    author VARCHAR(100) NOT NULL,\n",
                "    price int DEFAULT(0)\n",
                ")"
            ],
            "metadata": {
                "language": "sql",
                "azdata_cell_guid": "f7606210-ef60-457c-ba65-5c94e7ab5729"
            },
            "outputs": [
                {
                    "output_type": "display_data",
                    "data": {
                        "text/html": "Commands completed successfully."
                    },
                    "metadata": {}
                },
                {
                    "output_type": "display_data",
                    "data": {
                        "text/html": "Total execution time: 00:00:00.010"
                    },
                    "metadata": {}
                }
            ],
            "execution_count": 6
        },
        {
            "cell_type": "code",
            "source": [
                "CREATE TABLE REVIEWS(\n",
                "    Id int IDENTITY PRIMARY KEY,\n",
                "    book_id VARCHAR(100) NOT NULL FOREIGN KEY REFERENCES books(id) ON DELETE CASCADE ON UPDATE CASCADE,\n",
                "    rating int NOT NULL\n",
                ")"
            ],
            "metadata": {
                "azdata_cell_guid": "74ce8292-60b8-4672-9190-d3e82a182506",
                "language": "sql",
                "tags": []
            },
            "outputs": [
                {
                    "output_type": "display_data",
                    "data": {
                        "text/html": "Commands completed successfully."
                    },
                    "metadata": {}
                },
                {
                    "output_type": "display_data",
                    "data": {
                        "text/html": "Total execution time: 00:00:00.007"
                    },
                    "metadata": {}
                }
            ],
            "execution_count": 7
        },
        {
            "cell_type": "markdown",
            "source": [
                "### <span style=\"font-family: -apple-system, BlinkMacSystemFont, sans-serif; color: var(--vscode-foreground);\">Now Let us Add Records</span>"
            ],
            "metadata": {
                "language": "sql",
                "azdata_cell_guid": "401d762d-2481-48ca-92f0-959bb5590242"
            },
            "attachments": {}
        },
        {
            "cell_type": "code",
            "source": [
                "INSERT \n",
                "    INTO BOOKS\n",
                "        (ID,TITLE,AUTHOR,PRICE)\n",
                "    VALUES\n",
                "        ('the-accursed-god','The Accursed God','Vivek Dutta Mishra',399),\n",
                "         ('kane-and-abel','Kane and Abel','Jeffrey Archer',450),\n",
                "        ('rashmirathi','Rashmirathi','Ramdhari Singh Dinkar',190),\n",
                "        ('sons-of-fortune','Sons of Fortune','Jeffrey Archer',450),\n",
                "        ('manas','Manas','Vivek Dutta Mishra',199),\n",
                "        ('summons','Summons','John Grisham',250),\n",
                "        ('five-point-someone','Five Point SomeOne','Chetan Bhagat',250),\n",
                "        ('scion-of-ikshavaku','The Scion of Ikshavaku','Amish',300),\n",
                "        ('kurukshetra','Kurukshetra','Ramdhari Singh Dinkar',450),\n",
                "        ('urvasi','Urvasi','Ramdhari Singh Dinkar',125),\n",
                "        ('harry-potter-1','Harry Potter and the Soccers Stone','JK Rowlings',250),\n",
                "        ('harry-potter-2','Harry Potter and the Chambers of Secrets','JK Rowlings',350),\n",
                "        ('harry-potter-3','Harry Potter and the Prisoner of Askaban','JK Rowlings',350),\n",
                "        ('harry-potter-4','Harry Potter and the Goblet of Fire','JK Rowlings',450),\n",
                "        ('harry-potter-5','Harry Potter and the Order of Phoenix','JK Rowlings',450),\n",
                "        ('harry-potter-6','Harry Potter and the Half Blood Prince','JK Rowlings',450),\n",
                "        ('harry-potter-7','Harry Potter and the Deathly Hollows','JK Rowlings',350);"
            ],
            "metadata": {
                "azdata_cell_guid": "59e13a73-52be-4c8e-ab67-c2bd08bf0f7c",
                "language": "sql",
                "tags": []
            },
            "outputs": [
                {
                    "output_type": "display_data",
                    "data": {
                        "text/html": "(17 rows affected)"
                    },
                    "metadata": {}
                },
                {
                    "output_type": "display_data",
                    "data": {
                        "text/html": "Total execution time: 00:00:00.019"
                    },
                    "metadata": {}
                }
            ],
            "execution_count": 8
        },
        {
            "cell_type": "code",
            "source": [
                "INSERT INTO \n",
                "    reviews( book_id, rating)\n",
                "VALUES\n",
                "    ('the-accursed-god',4),\n",
                "    ('kane-and-abel',4),\n",
                "    ('the-accursed-god',5),\n",
                "    ('kane-and-abel',4),\n",
                "    ('kane-and-abel',3),\n",
                "    ('kane-and-abel',3),\n",
                "    ('the-accursed-god',4),\n",
                "    ('kane-and-abel',5),\n",
                "    ('kane-and-abel',5),\n",
                "    ('kane-and-abel',3),\n",
                "    ('the-accursed-god',5),\n",
                "    ('the-accursed-god',5),\n",
                "    ('the-accursed-god',5),\n",
                "    ('the-accursed-god',5),\n",
                "    ('kane-and-abel',4),\n",
                "    ('the-accursed-god',5),\n",
                "    ('kane-and-abel',3),\n",
                "    ('rashmirathi',5),\n",
                "    ('rashmirathi',4),\n",
                "    ('rashmirathi',5),\n",
                "    ('rashmirathi',5),\n",
                "    ('rashmirathi',5),\n",
                "    ('harry-potter-1',5),\n",
                "    ('harry-potter-2',3),\n",
                "    ('harry-potter-2',3),\n",
                "    ('harry-potter-3',4),\n",
                "    ('harry-potter-3',4),\n",
                "    ('harry-potter-1',5),\n",
                "    ('harry-potter-4',5),\n",
                "    ('harry-potter-4',4),\n",
                "    ('harry-potter-5',2),\n",
                "    ('harry-potter-6',4),\n",
                "    ('harry-potter-6',5),\n",
                "    ('harry-potter-6',3),\n",
                "    ('harry-potter-7',4),\n",
                "    ('five-point-someone',4),\n",
                "    ('five-point-someone',2),\n",
                "    ('five-point-someone',2),\n",
                "    ('five-point-someone',1),\n",
                "    ('harry-potter-7',4),\n",
                "    ('harry-potter-7',4),\n",
                "    ('harry-potter-4',3),\n",
                "    ('five-point-someone',2),\n",
                "    ('five-point-someone',3),\n",
                "    ('five-point-someone',3),\n",
                "    ('five-point-someone',1),\n",
                "    ('harry-potter-1',4),\n",
                "    ('harry-potter-3',2),\n",
                "    ('harry-potter-2',5),\n",
                "    ('harry-potter-2',5),\n",
                "    ('scion-of-ikshavaku',4),\n",
                "    ('harry-potter-1',4),\n",
                "    ('harry-potter-1',3),\n",
                "    ('scion-of-ikshavaku',2),\n",
                "    ('harry-potter-2',4),\n",
                "    ('harry-potter-5',4),\n",
                "    ('scion-of-ikshavaku',2),\n",
                "    ('harry-potter-6',3),\n",
                "    ('harry-potter-7',5),\n",
                "    ('harry-potter-1',5),\n",
                "    ('manas',5),\n",
                "    ('manas',5),\n",
                "    ('manas',5),\n",
                "    ('scion-of-ikshavaku',3),\n",
                "    ('manas',5),\n",
                "    ('manas',4),\n",
                "    ('manas',5),\n",
                "    ('scion-of-ikshavaku',2),\n",
                "    ('manas',5),\n",
                "    ('manas',5),\n",
                "    ('kurukshetra',5),\n",
                "    ('kurukshetra',2),\n",
                "    ('kurukshetra',3),\n",
                "    ('scion-of-ikshavaku',3),\n",
                "    ('kurukshetra',3),\n",
                "    ('kurukshetra',3),\n",
                "    ('kurukshetra',3),\n",
                "    ('sons-of-fortune',3),\n",
                "    ('sons-of-fortune',4);\n",
                ""
            ],
            "metadata": {
                "azdata_cell_guid": "9d07927c-3113-4453-91dc-ff81518e38e1",
                "language": "sql",
                "tags": []
            },
            "outputs": [
                {
                    "output_type": "display_data",
                    "data": {
                        "text/html": "(79 rows affected)"
                    },
                    "metadata": {}
                },
                {
                    "output_type": "display_data",
                    "data": {
                        "text/html": "Total execution time: 00:00:00.022"
                    },
                    "metadata": {}
                }
            ],
            "execution_count": 9
        },
        {
            "cell_type": "code",
            "source": [
                "select count(*) as book_count from books;\n",
                "select count(*) as review_count from reviews;"
            ],
            "metadata": {
                "azdata_cell_guid": "8f27eabe-ffa0-48b5-8c65-3c796d5837e5",
                "language": "sql"
            },
            "outputs": [
                {
                    "output_type": "display_data",
                    "data": {
                        "text/html": "(1 row affected)"
                    },
                    "metadata": {}
                },
                {
                    "output_type": "display_data",
                    "data": {
                        "text/html": "(1 row affected)"
                    },
                    "metadata": {}
                },
                {
                    "output_type": "display_data",
                    "data": {
                        "text/html": "Total execution time: 00:00:00.005"
                    },
                    "metadata": {}
                },
                {
                    "output_type": "execute_result",
                    "metadata": {},
                    "execution_count": 11,
                    "data": {
                        "application/vnd.dataresource+json": {
                            "schema": {
                                "fields": [
                                    {
                                        "name": "book_count"
                                    }
                                ]
                            },
                            "data": [
                                {
                                    "book_count": "17"
                                }
                            ]
                        },
                        "text/html": [
                            "<table>",
                            "<tr><th>book_count</th></tr>",
                            "<tr><td>17</td></tr>",
                            "</table>"
                        ]
                    }
                },
                {
                    "output_type": "execute_result",
                    "metadata": {},
                    "execution_count": 11,
                    "data": {
                        "application/vnd.dataresource+json": {
                            "schema": {
                                "fields": [
                                    {
                                        "name": "review_count"
                                    }
                                ]
                            },
                            "data": [
                                {
                                    "review_count": "79"
                                }
                            ]
                        },
                        "text/html": [
                            "<table>",
                            "<tr><th>review_count</th></tr>",
                            "<tr><td>79</td></tr>",
                            "</table>"
                        ]
                    }
                }
            ],
            "execution_count": 11
        },
        {
            "cell_type": "markdown",
            "source": [
                "# Distinct Values\n",
                "\n",
                "\\* we can search for distinct or unique values in our database\n",
                "\n",
                "\\* we have a table of books and authors are repeating\n",
                "\n",
                "\\* we can get a unique list of authors from the list books"
            ],
            "metadata": {
                "language": "sql",
                "azdata_cell_guid": "086af365-b1a1-4e18-ba8b-90ba7b93ba41"
            },
            "attachments": {}
        },
        {
            "cell_type": "code",
            "source": [
                "select distinct(author) from books;"
            ],
            "metadata": {
                "azdata_cell_guid": "04d9ef2b-b7e2-4edc-b07f-5aae865b70f2",
                "language": "sql"
            },
            "outputs": [
                {
                    "output_type": "display_data",
                    "data": {
                        "text/html": "(7 rows affected)"
                    },
                    "metadata": {}
                },
                {
                    "output_type": "display_data",
                    "data": {
                        "text/html": "Total execution time: 00:00:00.018"
                    },
                    "metadata": {}
                },
                {
                    "output_type": "execute_result",
                    "execution_count": 3,
                    "data": {
                        "application/vnd.dataresource+json": {
                            "schema": {
                                "fields": [
                                    {
                                        "name": "author"
                                    }
                                ]
                            },
                            "data": [
                                {
                                    "author": "Amish"
                                },
                                {
                                    "author": "Chetan Bhagat"
                                },
                                {
                                    "author": "Jeffrey Archer"
                                },
                                {
                                    "author": "JK Rowlings"
                                },
                                {
                                    "author": "John Grisham"
                                },
                                {
                                    "author": "Ramdhari Singh Dinkar"
                                },
                                {
                                    "author": "Vivek Dutta Mishra"
                                }
                            ]
                        },
                        "text/html": "<table><tr><th>author</th></tr><tr><td>Amish</td></tr><tr><td>Chetan Bhagat</td></tr><tr><td>Jeffrey Archer</td></tr><tr><td>JK Rowlings</td></tr><tr><td>John Grisham</td></tr><tr><td>Ramdhari Singh Dinkar</td></tr><tr><td>Vivek Dutta Mishra</td></tr></table>"
                    },
                    "metadata": {}
                }
            ],
            "execution_count": 3
        },
        {
            "cell_type": "markdown",
            "source": [
                "## We can get distinct book\\_id from reviews"
            ],
            "metadata": {
                "language": "sql",
                "azdata_cell_guid": "7d651ae8-cdbf-4c72-aa4e-7df4d5f9eff0"
            },
            "attachments": {}
        },
        {
            "cell_type": "code",
            "source": [
                "select distinct(book_id) from reviews;"
            ],
            "metadata": {
                "azdata_cell_guid": "a7021061-9ef4-411e-ae81-9969756d692e",
                "language": "sql"
            },
            "outputs": [
                {
                    "output_type": "display_data",
                    "data": {
                        "text/html": "(15 rows affected)"
                    },
                    "metadata": {}
                },
                {
                    "output_type": "display_data",
                    "data": {
                        "text/html": "Total execution time: 00:00:00.018"
                    },
                    "metadata": {}
                },
                {
                    "output_type": "execute_result",
                    "execution_count": 4,
                    "data": {
                        "application/vnd.dataresource+json": {
                            "schema": {
                                "fields": [
                                    {
                                        "name": "book_id"
                                    }
                                ]
                            },
                            "data": [
                                {
                                    "book_id": "five-point-someone"
                                },
                                {
                                    "book_id": "harry-potter-1"
                                },
                                {
                                    "book_id": "harry-potter-2"
                                },
                                {
                                    "book_id": "harry-potter-3"
                                },
                                {
                                    "book_id": "harry-potter-4"
                                },
                                {
                                    "book_id": "harry-potter-5"
                                },
                                {
                                    "book_id": "harry-potter-6"
                                },
                                {
                                    "book_id": "harry-potter-7"
                                },
                                {
                                    "book_id": "kane-and-abel"
                                },
                                {
                                    "book_id": "kurukshetra"
                                },
                                {
                                    "book_id": "manas"
                                },
                                {
                                    "book_id": "rashmirathi"
                                },
                                {
                                    "book_id": "scion-of-ikshavaku"
                                },
                                {
                                    "book_id": "sons-of-fortune"
                                },
                                {
                                    "book_id": "the-accursed-god"
                                }
                            ]
                        },
                        "text/html": "<table><tr><th>book_id</th></tr><tr><td>five-point-someone</td></tr><tr><td>harry-potter-1</td></tr><tr><td>harry-potter-2</td></tr><tr><td>harry-potter-3</td></tr><tr><td>harry-potter-4</td></tr><tr><td>harry-potter-5</td></tr><tr><td>harry-potter-6</td></tr><tr><td>harry-potter-7</td></tr><tr><td>kane-and-abel</td></tr><tr><td>kurukshetra</td></tr><tr><td>manas</td></tr><tr><td>rashmirathi</td></tr><tr><td>scion-of-ikshavaku</td></tr><tr><td>sons-of-fortune</td></tr><tr><td>the-accursed-god</td></tr></table>"
                    },
                    "metadata": {}
                }
            ],
            "execution_count": 4
        },
        {
            "cell_type": "markdown",
            "source": [
                "### We can aggregate distinct values"
            ],
            "metadata": {
                "language": "sql",
                "azdata_cell_guid": "6971f8f6-5ca4-4706-a7d1-5312af8b6989"
            },
            "attachments": {}
        },
        {
            "cell_type": "code",
            "source": [
                "select count(distinct(author)) as Author_Count from books"
            ],
            "metadata": {
                "azdata_cell_guid": "2b2bcc7a-4a21-458b-908d-46ab142bf397",
                "language": "sql"
            },
            "outputs": [
                {
                    "output_type": "display_data",
                    "data": {
                        "text/html": "(1 row affected)"
                    },
                    "metadata": {}
                },
                {
                    "output_type": "display_data",
                    "data": {
                        "text/html": "Total execution time: 00:00:00.020"
                    },
                    "metadata": {}
                },
                {
                    "output_type": "execute_result",
                    "execution_count": 5,
                    "data": {
                        "application/vnd.dataresource+json": {
                            "schema": {
                                "fields": [
                                    {
                                        "name": "Author_Count"
                                    }
                                ]
                            },
                            "data": [
                                {
                                    "Author_Count": "7"
                                }
                            ]
                        },
                        "text/html": "<table><tr><th>Author_Count</th></tr><tr><td>7</td></tr></table>"
                    },
                    "metadata": {}
                }
            ],
            "execution_count": 5
        },
        {
            "cell_type": "markdown",
            "source": [
                "### Aggregate With Reviews"
            ],
            "metadata": {
                "language": "sql",
                "azdata_cell_guid": "5f4d2280-bcbb-4000-8f95-76b94473ce30"
            },
            "attachments": {}
        },
        {
            "cell_type": "code",
            "source": [
                "SELECT\n",
                "    count(*) as total,\n",
                "    avg(rating) as average_rating\n",
                "FROM\n",
                "    reviews\n",
                "    "
            ],
            "metadata": {
                "azdata_cell_guid": "b2086015-0da9-438d-ac44-0d6c413bf6a1",
                "language": "sql"
            },
            "outputs": [
                {
                    "output_type": "display_data",
                    "data": {
                        "text/html": "(1 row affected)"
                    },
                    "metadata": {}
                },
                {
                    "output_type": "display_data",
                    "data": {
                        "text/html": "Total execution time: 00:00:00.014"
                    },
                    "metadata": {}
                },
                {
                    "output_type": "execute_result",
                    "execution_count": 6,
                    "data": {
                        "application/vnd.dataresource+json": {
                            "schema": {
                                "fields": [
                                    {
                                        "name": "total"
                                    },
                                    {
                                        "name": "average_rating"
                                    }
                                ]
                            },
                            "data": [
                                {
                                    "total": "79",
                                    "average_rating": "3"
                                }
                            ]
                        },
                        "text/html": "<table><tr><th>total</th><th>average_rating</th></tr><tr><td>79</td><td>3</td></tr></table>"
                    },
                    "metadata": {}
                }
            ],
            "execution_count": 6
        },
        {
            "cell_type": "markdown",
            "source": [
                "### Average of int will be int by default\n",
                "\n",
                "- here our rating is int\n",
                "- sum(int)/count(int) =\\> int/int =\\> int\n",
                "\n",
                "### To get double value we need to do a type casting\n",
                "\n",
                "- We can cast using function\n",
                "    - CAST(value as type)\n",
                "- Also we want the rating to be rounded of to 1 decimal place\n",
                "    - we can use ROUND( value, decimal)"
            ],
            "metadata": {
                "language": "sql",
                "azdata_cell_guid": "c1b6e9e4-ded3-4e55-b50d-589bcca04230"
            },
            "attachments": {}
        },
        {
            "cell_type": "code",
            "source": [
                "SELECT\n",
                "    count(*) as all_reviews_count,\n",
                "    avg(CAST(rating as float)) as average_rating\n",
                "FROM\n",
                "    reviews"
            ],
            "metadata": {
                "language": "sql",
                "azdata_cell_guid": "0425ffc3-8658-4c37-a103-972ccc8971aa"
            },
            "outputs": [
                {
                    "output_type": "display_data",
                    "data": {
                        "text/html": "(1 row affected)"
                    },
                    "metadata": {}
                },
                {
                    "output_type": "display_data",
                    "data": {
                        "text/html": "Total execution time: 00:00:00.006"
                    },
                    "metadata": {}
                },
                {
                    "output_type": "execute_result",
                    "execution_count": 12,
                    "data": {
                        "application/vnd.dataresource+json": {
                            "schema": {
                                "fields": [
                                    {
                                        "name": "all_reviews_count"
                                    },
                                    {
                                        "name": "average_rating"
                                    }
                                ]
                            },
                            "data": [
                                {
                                    "all_reviews_count": "79",
                                    "average_rating": "3.810126582278481"
                                }
                            ]
                        },
                        "text/html": "<table><tr><th>all_reviews_count</th><th>average_rating</th></tr><tr><td>79</td><td>3.810126582278481</td></tr></table>"
                    },
                    "metadata": {}
                }
            ],
            "execution_count": 12
        },
        {
            "cell_type": "code",
            "source": [
                "SELECT \n",
                "    COUNT(*) as votes,\n",
                "    ROUND(AVG(CAST(rating as float)),1) as rating\n",
                "FROM\n",
                "    reviews\n",
                "WHERE\n",
                "    book_id='the-accursed-god'"
            ],
            "metadata": {
                "language": "sql",
                "azdata_cell_guid": "718f772b-7dd8-437d-b248-e802a8a28b86"
            },
            "outputs": [
                {
                    "output_type": "display_data",
                    "data": {
                        "text/html": "(1 row affected)"
                    },
                    "metadata": {}
                },
                {
                    "output_type": "display_data",
                    "data": {
                        "text/html": "Total execution time: 00:00:00.014"
                    },
                    "metadata": {}
                },
                {
                    "output_type": "execute_result",
                    "execution_count": 11,
                    "data": {
                        "application/vnd.dataresource+json": {
                            "schema": {
                                "fields": [
                                    {
                                        "name": "votes"
                                    },
                                    {
                                        "name": "rating"
                                    }
                                ]
                            },
                            "data": [
                                {
                                    "votes": "8",
                                    "rating": "4.8"
                                }
                            ]
                        },
                        "text/html": "<table><tr><th>votes</th><th>rating</th></tr><tr><td>8</td><td>4.8</td></tr></table>"
                    },
                    "metadata": {}
                }
            ],
            "execution_count": 11
        },
        {
            "cell_type": "markdown",
            "source": [
                "## How do I show votes and rating per book?\n",
                "\n",
                "- So far we tried to get aggregate of\n",
                "    - All  Books Taken Together\n",
                "    - Reviews realated to single book id\n",
                "- But what if we need to get votes, and ratings of all the books individually\n",
                "\n",
                "# Group By\n",
                "\n",
                "- Group By groups multiple records to return a single record \n",
                "- It is like returning one row by calling 'distinct' for each item\n",
                "- The simplest group by will look like 'distinct' record"
            ],
            "metadata": {
                "azdata_cell_guid": "5dd5cb87-f48b-4ba5-84a6-a38b56aebcc9"
            },
            "attachments": {}
        },
        {
            "cell_type": "code",
            "source": [
                "SELECT\n",
                "    BOOK_ID\n",
                "FROM\n",
                "    reviews\n",
                "GROUP BY \n",
                "    BOOK_ID"
            ],
            "metadata": {
                "azdata_cell_guid": "e6163db6-ec06-4c17-af71-d62c3bbaf8f4",
                "language": "sql"
            },
            "outputs": [
                {
                    "output_type": "display_data",
                    "data": {
                        "text/html": "(15 rows affected)"
                    },
                    "metadata": {}
                },
                {
                    "output_type": "display_data",
                    "data": {
                        "text/html": "Total execution time: 00:00:00.022"
                    },
                    "metadata": {}
                },
                {
                    "output_type": "execute_result",
                    "execution_count": 13,
                    "data": {
                        "application/vnd.dataresource+json": {
                            "schema": {
                                "fields": [
                                    {
                                        "name": "BOOK_ID"
                                    }
                                ]
                            },
                            "data": [
                                {
                                    "BOOK_ID": "five-point-someone"
                                },
                                {
                                    "BOOK_ID": "harry-potter-1"
                                },
                                {
                                    "BOOK_ID": "harry-potter-2"
                                },
                                {
                                    "BOOK_ID": "harry-potter-3"
                                },
                                {
                                    "BOOK_ID": "harry-potter-4"
                                },
                                {
                                    "BOOK_ID": "harry-potter-5"
                                },
                                {
                                    "BOOK_ID": "harry-potter-6"
                                },
                                {
                                    "BOOK_ID": "harry-potter-7"
                                },
                                {
                                    "BOOK_ID": "kane-and-abel"
                                },
                                {
                                    "BOOK_ID": "kurukshetra"
                                },
                                {
                                    "BOOK_ID": "manas"
                                },
                                {
                                    "BOOK_ID": "rashmirathi"
                                },
                                {
                                    "BOOK_ID": "scion-of-ikshavaku"
                                },
                                {
                                    "BOOK_ID": "sons-of-fortune"
                                },
                                {
                                    "BOOK_ID": "the-accursed-god"
                                }
                            ]
                        },
                        "text/html": "<table><tr><th>BOOK_ID</th></tr><tr><td>five-point-someone</td></tr><tr><td>harry-potter-1</td></tr><tr><td>harry-potter-2</td></tr><tr><td>harry-potter-3</td></tr><tr><td>harry-potter-4</td></tr><tr><td>harry-potter-5</td></tr><tr><td>harry-potter-6</td></tr><tr><td>harry-potter-7</td></tr><tr><td>kane-and-abel</td></tr><tr><td>kurukshetra</td></tr><tr><td>manas</td></tr><tr><td>rashmirathi</td></tr><tr><td>scion-of-ikshavaku</td></tr><tr><td>sons-of-fortune</td></tr><tr><td>the-accursed-god</td></tr></table>"
                    },
                    "metadata": {}
                }
            ],
            "execution_count": 13
        },
        {
            "cell_type": "code",
            "source": [
                "SELECT DISTINCT(BOOK_ID) FROM REVIEWS"
            ],
            "metadata": {
                "azdata_cell_guid": "9d74ff01-d261-4f30-94fc-a93090965556",
                "language": "sql"
            },
            "outputs": [
                {
                    "output_type": "display_data",
                    "data": {
                        "text/html": "(15 rows affected)"
                    },
                    "metadata": {}
                },
                {
                    "output_type": "display_data",
                    "data": {
                        "text/html": "Total execution time: 00:00:00.018"
                    },
                    "metadata": {}
                },
                {
                    "output_type": "execute_result",
                    "execution_count": 14,
                    "data": {
                        "application/vnd.dataresource+json": {
                            "schema": {
                                "fields": [
                                    {
                                        "name": "BOOK_ID"
                                    }
                                ]
                            },
                            "data": [
                                {
                                    "BOOK_ID": "five-point-someone"
                                },
                                {
                                    "BOOK_ID": "harry-potter-1"
                                },
                                {
                                    "BOOK_ID": "harry-potter-2"
                                },
                                {
                                    "BOOK_ID": "harry-potter-3"
                                },
                                {
                                    "BOOK_ID": "harry-potter-4"
                                },
                                {
                                    "BOOK_ID": "harry-potter-5"
                                },
                                {
                                    "BOOK_ID": "harry-potter-6"
                                },
                                {
                                    "BOOK_ID": "harry-potter-7"
                                },
                                {
                                    "BOOK_ID": "kane-and-abel"
                                },
                                {
                                    "BOOK_ID": "kurukshetra"
                                },
                                {
                                    "BOOK_ID": "manas"
                                },
                                {
                                    "BOOK_ID": "rashmirathi"
                                },
                                {
                                    "BOOK_ID": "scion-of-ikshavaku"
                                },
                                {
                                    "BOOK_ID": "sons-of-fortune"
                                },
                                {
                                    "BOOK_ID": "the-accursed-god"
                                }
                            ]
                        },
                        "text/html": "<table><tr><th>BOOK_ID</th></tr><tr><td>five-point-someone</td></tr><tr><td>harry-potter-1</td></tr><tr><td>harry-potter-2</td></tr><tr><td>harry-potter-3</td></tr><tr><td>harry-potter-4</td></tr><tr><td>harry-potter-5</td></tr><tr><td>harry-potter-6</td></tr><tr><td>harry-potter-7</td></tr><tr><td>kane-and-abel</td></tr><tr><td>kurukshetra</td></tr><tr><td>manas</td></tr><tr><td>rashmirathi</td></tr><tr><td>scion-of-ikshavaku</td></tr><tr><td>sons-of-fortune</td></tr><tr><td>the-accursed-god</td></tr></table>"
                    },
                    "metadata": {}
                }
            ],
            "execution_count": 14
        },
        {
            "cell_type": "markdown",
            "source": [
                "### WHY USE GROUP ID INSTEAD OF DISTINCT?\n",
                "\n",
                "\\* GROUP  CAN ALSO INCLUDE ASSOCIATED AGGREGATE INFORMATION\n",
                "\n",
                "### HOW CAN WE FIND ALL AUTHOR AND TOTAL BOOKS WRITTEN BY THEM"
            ],
            "metadata": {
                "language": "sql",
                "azdata_cell_guid": "f36df6c3-a1e5-48c4-aabc-76f90bd40887"
            },
            "attachments": {}
        },
        {
            "cell_type": "code",
            "source": [
                "SELECT \n",
                "    DISTINCT(AUTHOR), -- 7 records\n",
                "    COUNT(id)         -- 1 record\n",
                "FROM\n",
                "    books\n",
                ""
            ],
            "metadata": {
                "azdata_cell_guid": "5a096468-c800-49ad-b79e-394ffc511b7f",
                "language": "sql",
                "tags": []
            },
            "outputs": [
                {
                    "output_type": "error",
                    "ename": "",
                    "evalue": "Msg 8120, Level 16, State 1, Line 2\nColumn 'books.author' is invalid in the select list because it is not contained in either an aggregate function or the GROUP BY clause.",
                    "traceback": []
                },
                {
                    "output_type": "display_data",
                    "data": {
                        "text/html": "Total execution time: 00:00:00.003"
                    },
                    "metadata": {}
                }
            ],
            "execution_count": 18
        },
        {
            "cell_type": "code",
            "source": [
                "SELECT\n",
                "    author, -- 7\n",
                "    count(id) as books_written,  --count(id) in the current group where author==author\n",
                "    AVG(price) as average_book_cost\n",
                "FROM\n",
                "    books\n",
                "GROUP BY \n",
                "    author -- one row per author"
            ],
            "metadata": {
                "azdata_cell_guid": "04848982-7aac-4a5c-b352-e73542c71c73",
                "language": "sql"
            },
            "outputs": [
                {
                    "output_type": "display_data",
                    "data": {
                        "text/html": "(7 rows affected)"
                    },
                    "metadata": {}
                },
                {
                    "output_type": "display_data",
                    "data": {
                        "text/html": "Total execution time: 00:00:00.027"
                    },
                    "metadata": {}
                },
                {
                    "output_type": "execute_result",
                    "execution_count": 24,
                    "data": {
                        "application/vnd.dataresource+json": {
                            "schema": {
                                "fields": [
                                    {
                                        "name": "author"
                                    },
                                    {
                                        "name": "books_written"
                                    },
                                    {
                                        "name": "average_book_cost"
                                    }
                                ]
                            },
                            "data": [
                                {
                                    "author": "Amish",
                                    "books_written": "1",
                                    "average_book_cost": "300"
                                },
                                {
                                    "author": "Chetan Bhagat",
                                    "books_written": "1",
                                    "average_book_cost": "250"
                                },
                                {
                                    "author": "Jeffrey Archer",
                                    "books_written": "2",
                                    "average_book_cost": "450"
                                },
                                {
                                    "author": "JK Rowlings",
                                    "books_written": "7",
                                    "average_book_cost": "378"
                                },
                                {
                                    "author": "John Grisham",
                                    "books_written": "1",
                                    "average_book_cost": "250"
                                },
                                {
                                    "author": "Ramdhari Singh Dinkar",
                                    "books_written": "3",
                                    "average_book_cost": "255"
                                },
                                {
                                    "author": "Vivek Dutta Mishra",
                                    "books_written": "2",
                                    "average_book_cost": "299"
                                }
                            ]
                        },
                        "text/html": "<table><tr><th>author</th><th>books_written</th><th>average_book_cost</th></tr><tr><td>Amish</td><td>1</td><td>300</td></tr><tr><td>Chetan Bhagat</td><td>1</td><td>250</td></tr><tr><td>Jeffrey Archer</td><td>2</td><td>450</td></tr><tr><td>JK Rowlings</td><td>7</td><td>378</td></tr><tr><td>John Grisham</td><td>1</td><td>250</td></tr><tr><td>Ramdhari Singh Dinkar</td><td>3</td><td>255</td></tr><tr><td>Vivek Dutta Mishra</td><td>2</td><td>299</td></tr></table>"
                    },
                    "metadata": {}
                }
            ],
            "execution_count": 24
        },
        {
            "cell_type": "markdown",
            "source": [
                "## How Grouping Works\n",
                "\n",
                "1\\. Grouping using the group by field as 'distinct'\n",
                "\n",
                "2\\. It creates 'distinct' groups of rows per item\n",
                "\n",
                "- group by author will create\n",
                "    - One group per distinct author\n",
                "        - each group may contain 1 or more rows\n",
                "\n",
                "3\\. The result will return only 1 row per group\n",
                "\n",
                "- Although there are multiple rows within the group\n",
                "\n",
                "4\\. Each row is a summary of the group\n",
                "\n",
                "## What can we select about a group\n",
                "\n",
                "- Whatever can be included in a single line\n",
                "    - group key \n",
                "        - it will be single per group\n",
                "    - aggregate information of group rows\n",
                "        - sum\n",
                "        - avg\n",
                "        - count\n",
                "\n",
                "## <span style=\"color: var(--vscode-foreground); font-family: -apple-system, BlinkMacSystemFont, sans-serif;\">What can't be selecterd in a group</span>\n",
                "\n",
                "- <span style=\"color: var(--vscode-foreground); font-family: -apple-system, BlinkMacSystemFont, sans-serif;\">anything that may have duplicates</span>\n",
                "    \n",
                "    - <span style=\"color: var(--vscode-foreground); font-family: -apple-system, BlinkMacSystemFont, sans-serif;\">anything that is not</span>\n",
                "        - <span style=\"color: var(--vscode-foreground); font-family: -apple-system, BlinkMacSystemFont, sans-serif;\">mentioned in group by</span>\n",
                "        - <span style=\"color: var(--vscode-foreground); font-family: -apple-system, BlinkMacSystemFont, sans-serif;\">not an aggregate function</span>\n",
                "- Example:\n",
                "    \n",
                "    - group by author can't inlcude \n",
                "    - title\n",
                "    - price\n",
                "    - book.id\n",
                "    - each author may have multiple books\n",
                "        - they can't display multiple title on a single row\n",
                "\n",
                "## Getting Grouped Records From Multiple Tables\n",
                "\n",
                "## Select title, author, price votes and rating per book"
            ],
            "metadata": {
                "language": "sql",
                "azdata_cell_guid": "c8c01e7d-f22e-4606-8728-ef8acb43d6c5"
            },
            "attachments": {}
        },
        {
            "cell_type": "code",
            "source": [
                "SELECT\n",
                "    b.id as id,\n",
                "    title,\n",
                "    author,\n",
                "    MIN(price) as PRICE, -- there is only one price\n",
                "    count(rating) as votes,\n",
                "    ROUND(AVG(CAST(rating as float)),1) as rating\n",
                "FROM\n",
                "    reviews,\n",
                "    books as b\n",
                "WHERE\n",
                "    b.id = book_id\n",
                "GROUP BY\n",
                "    b.id\n",
                "    "
            ],
            "metadata": {
                "language": "sql",
                "azdata_cell_guid": "be98aaca-f591-4fcb-9ced-5337df2f2993"
            },
            "outputs": [
                {
                    "output_type": "error",
                    "ename": "",
                    "evalue": "Msg 8120, Level 16, State 1, Line 3\nColumn 'books.title' is invalid in the select list because it is not contained in either an aggregate function or the GROUP BY clause.",
                    "traceback": []
                },
                {
                    "output_type": "display_data",
                    "data": {
                        "text/html": "Total execution time: 00:00:00.009"
                    },
                    "metadata": {}
                }
            ],
            "execution_count": 34
        },
        {
            "cell_type": "markdown",
            "source": [
                "## How do we make it work?\n",
                "\n",
                "  \n",
                "\n",
                "## Approach #1 Inlcude in group\n",
                "\n",
                "- In our example we know for every book.id we have a single value for\n",
                "    - title\n",
                "    - author\n",
                "    - price\n",
                "- we can include these fields in group to enable their selection"
            ],
            "metadata": {
                "language": "sql",
                "azdata_cell_guid": "f4e5a336-9e31-4a3a-aa72-9e43463c3ec4"
            },
            "attachments": {}
        },
        {
            "cell_type": "code",
            "source": [
                "SELECT \n",
                "    title,\n",
                "    author,\n",
                "    Min(Price), -- hack to use aggregate when I know there is a single value\n",
                "    count(rating) as votes,\n",
                "    ROUND(AVG(CAST(rating as float)),1) as rating\n",
                "FROM\n",
                "    books as b,\n",
                "    reviews as r\n",
                "WHERE\n",
                "    b.id=r.book_id\n",
                "GROUP BY\n",
                "    b.id,\n",
                "    b.title,\n",
                "    b.author \n",
                "ORDER BY\n",
                "    b.title"
            ],
            "metadata": {
                "azdata_cell_guid": "6212dccc-2316-48d2-bf01-4c670b244f62",
                "language": "sql"
            },
            "outputs": [
                {
                    "output_type": "display_data",
                    "data": {
                        "text/html": "(15 rows affected)"
                    },
                    "metadata": {}
                },
                {
                    "output_type": "display_data",
                    "data": {
                        "text/html": "Total execution time: 00:00:00.017"
                    },
                    "metadata": {}
                },
                {
                    "output_type": "execute_result",
                    "metadata": {},
                    "execution_count": 12,
                    "data": {
                        "application/vnd.dataresource+json": {
                            "schema": {
                                "fields": [
                                    {
                                        "name": "title"
                                    },
                                    {
                                        "name": "author"
                                    },
                                    {
                                        "name": "(No column name)"
                                    },
                                    {
                                        "name": "votes"
                                    },
                                    {
                                        "name": "rating"
                                    }
                                ]
                            },
                            "data": [
                                {
                                    "title": "Five Point SomeOne",
                                    "author": "Chetan Bhagat",
                                    "(No column name)": "250",
                                    "votes": "8",
                                    "rating": "2.3"
                                },
                                {
                                    "title": "Harry Potter and the Chambers of Secrets",
                                    "author": "JK Rowlings",
                                    "(No column name)": "350",
                                    "votes": "5",
                                    "rating": "4"
                                },
                                {
                                    "title": "Harry Potter and the Deathly Hollows",
                                    "author": "JK Rowlings",
                                    "(No column name)": "350",
                                    "votes": "4",
                                    "rating": "4.3"
                                },
                                {
                                    "title": "Harry Potter and the Goblet of Fire",
                                    "author": "JK Rowlings",
                                    "(No column name)": "450",
                                    "votes": "3",
                                    "rating": "4"
                                },
                                {
                                    "title": "Harry Potter and the Half Blood Prince",
                                    "author": "JK Rowlings",
                                    "(No column name)": "450",
                                    "votes": "4",
                                    "rating": "3.8"
                                },
                                {
                                    "title": "Harry Potter and the Order of Phoenix",
                                    "author": "JK Rowlings",
                                    "(No column name)": "450",
                                    "votes": "2",
                                    "rating": "3"
                                },
                                {
                                    "title": "Harry Potter and the Prisoner of Askaban",
                                    "author": "JK Rowlings",
                                    "(No column name)": "350",
                                    "votes": "3",
                                    "rating": "3.3"
                                },
                                {
                                    "title": "Harry Potter and the Soccers Stone",
                                    "author": "JK Rowlings",
                                    "(No column name)": "250",
                                    "votes": "6",
                                    "rating": "4.3"
                                },
                                {
                                    "title": "Kane and Abel",
                                    "author": "Jeffrey Archer",
                                    "(No column name)": "450",
                                    "votes": "9",
                                    "rating": "3.8"
                                },
                                {
                                    "title": "Kurukshetra",
                                    "author": "Ramdhari Singh Dinkar",
                                    "(No column name)": "450",
                                    "votes": "6",
                                    "rating": "3.2"
                                },
                                {
                                    "title": "Manas",
                                    "author": "Vivek Dutta Mishra",
                                    "(No column name)": "199",
                                    "votes": "8",
                                    "rating": "4.9"
                                },
                                {
                                    "title": "Rashmirathi",
                                    "author": "Ramdhari Singh Dinkar",
                                    "(No column name)": "190",
                                    "votes": "5",
                                    "rating": "4.8"
                                },
                                {
                                    "title": "Sons of Fortune",
                                    "author": "Jeffrey Archer",
                                    "(No column name)": "450",
                                    "votes": "2",
                                    "rating": "3.5"
                                },
                                {
                                    "title": "The Accursed God",
                                    "author": "Vivek Dutta Mishra",
                                    "(No column name)": "399",
                                    "votes": "8",
                                    "rating": "4.8"
                                },
                                {
                                    "title": "The Scion of Ikshavaku",
                                    "author": "Amish",
                                    "(No column name)": "300",
                                    "votes": "6",
                                    "rating": "2.7"
                                }
                            ]
                        },
                        "text/html": [
                            "<table>",
                            "<tr><th>title</th><th>author</th><th>(No column name)</th><th>votes</th><th>rating</th></tr>",
                            "<tr><td>Five Point SomeOne</td><td>Chetan Bhagat</td><td>250</td><td>8</td><td>2.3</td></tr>",
                            "<tr><td>Harry Potter and the Chambers of Secrets</td><td>JK Rowlings</td><td>350</td><td>5</td><td>4</td></tr>",
                            "<tr><td>Harry Potter and the Deathly Hollows</td><td>JK Rowlings</td><td>350</td><td>4</td><td>4.3</td></tr>",
                            "<tr><td>Harry Potter and the Goblet of Fire</td><td>JK Rowlings</td><td>450</td><td>3</td><td>4</td></tr>",
                            "<tr><td>Harry Potter and the Half Blood Prince</td><td>JK Rowlings</td><td>450</td><td>4</td><td>3.8</td></tr>",
                            "<tr><td>Harry Potter and the Order of Phoenix</td><td>JK Rowlings</td><td>450</td><td>2</td><td>3</td></tr>",
                            "<tr><td>Harry Potter and the Prisoner of Askaban</td><td>JK Rowlings</td><td>350</td><td>3</td><td>3.3</td></tr>",
                            "<tr><td>Harry Potter and the Soccers Stone</td><td>JK Rowlings</td><td>250</td><td>6</td><td>4.3</td></tr>",
                            "<tr><td>Kane and Abel</td><td>Jeffrey Archer</td><td>450</td><td>9</td><td>3.8</td></tr>",
                            "<tr><td>Kurukshetra</td><td>Ramdhari Singh Dinkar</td><td>450</td><td>6</td><td>3.2</td></tr>",
                            "<tr><td>Manas</td><td>Vivek Dutta Mishra</td><td>199</td><td>8</td><td>4.9</td></tr>",
                            "<tr><td>Rashmirathi</td><td>Ramdhari Singh Dinkar</td><td>190</td><td>5</td><td>4.8</td></tr>",
                            "<tr><td>Sons of Fortune</td><td>Jeffrey Archer</td><td>450</td><td>2</td><td>3.5</td></tr>",
                            "<tr><td>The Accursed God</td><td>Vivek Dutta Mishra</td><td>399</td><td>8</td><td>4.8</td></tr>",
                            "<tr><td>The Scion of Ikshavaku</td><td>Amish</td><td>300</td><td>6</td><td>2.7</td></tr>",
                            "</table>"
                        ]
                    }
                }
            ],
            "execution_count": 12
        },
        {
            "cell_type": "markdown",
            "source": [
                "## Approach #2 Nested Queries\n",
                "\n",
                "  \n",
                "\n",
                "- We can nest one query inside another\n",
                "- A  Query returning a tabular data can act as virtual table\n",
                "\n",
                "  \n",
                "\n",
                "1."
            ],
            "metadata": {
                "language": "sql",
                "azdata_cell_guid": "e01ea3c6-93bf-4c0f-a8c3-43bcbf343af1"
            },
            "attachments": {}
        },
        {
            "cell_type": "code",
            "source": [
                "select\r\n",
                "    author,\r\n",
                "    avg(average_rating)\r\n",
                "    \r\n",
                "from\r\n",
                "    books,\r\n",
                "    (\r\n",
                "        select\r\n",
                "            book_id,\r\n",
                "            AVG(rating) as average_rating\r\n",
                "        FROM\r\n",
                "            reviews\r\n",
                "        group by\r\n",
                "            book_id\r\n",
                "    ) as r\r\n",
                "WHERE\r\n",
                "    id = r.book_id\r\n",
                "GROUP by(author)"
            ],
            "metadata": {
                "language": "sql",
                "azdata_cell_guid": "9507fd84-0eea-4cd8-964a-609a02de4309",
                "tags": []
            },
            "outputs": [
{
    "output_type": "display_data",
    "data": {
        "text/html": "(6 rows affected)"
    },
    "metadata": {}
}, {
    "output_type": "display_data",
    "data": {
        "text/html": "Total execution time: 00:00:00.010"
    },
    "metadata": {}
}, {
    "output_type": "execute_result",
    "metadata": {},
    "execution_count": 109,
    "data": {
        "application/vnd.dataresource+json": {
            "schema": {
                "fields": [
                    {
                        "name": "author"
                    },
                    {
                        "name": "(No column name)"
                    }
                ]
            },
            "data": [
                {
                    "author": "Amish",
                    "(No column name)": "2"
                },
                {
                    "author": "Chetan Bhagat",
                    "(No column name)": "2"
                },
                {
                    "author": "Jeffrey Archer",
                    "(No column name)": "3"
                },
                {
                    "author": "JK Rowlings",
                    "(No column name)": "3"
                },
                {
                    "author": "Ramdhari Singh Dinkar",
                    "(No column name)": "3"
                },
                {
                    "author": "Vivek Dutta Mishra",
                    "(No column name)": "4"
                }
            ]
        },
        "text/html": [
            "<table>",
            "<tr><th>author</th><th>(No column name)</th></tr>",
            "<tr><td>Amish</td><td>2</td></tr>",
            "<tr><td>Chetan Bhagat</td><td>2</td></tr>",
            "<tr><td>Jeffrey Archer</td><td>3</td></tr>",
            "<tr><td>JK Rowlings</td><td>3</td></tr>",
            "<tr><td>Ramdhari Singh Dinkar</td><td>3</td></tr>",
            "<tr><td>Vivek Dutta Mishra</td><td>4</td></tr>",
            "</table>"
        ]
    }
}
],
            "execution_count": 109
        },
        {
            "cell_type": "code",
            "source": [
                ""
            ],
            "metadata": {
                "language": "sql",
                "azdata_cell_guid": "893b189a-c51d-4cb4-abc7-bedee5c4bc84"
            },
            "outputs": [],
            "execution_count": null
        },
        {
            "cell_type": "code",
            "source": [
                "select\r\n",
                "    book_id,\r\n",
                "    AVG(rating) as average_rating\r\n",
                "FROM\r\n",
                "    reviews\r\n",
                "group by\r\n",
                "    book_id"
            ],
            "metadata": {
                "language": "sql",
                "azdata_cell_guid": "2533b690-43ca-4701-a673-5928eef1b6d1"
            },
            "outputs": [
                {
                    "output_type": "display_data",
                    "data": {
                        "text/html": "(15 rows affected)"
                    },
                    "metadata": {}
                },
                {
                    "output_type": "display_data",
                    "data": {
                        "text/html": "Total execution time: 00:00:00.006"
                    },
                    "metadata": {}
                },
                {
                    "output_type": "execute_result",
                    "metadata": {},
                    "execution_count": 107,
                    "data": {
                        "application/vnd.dataresource+json": {
                            "schema": {
                                "fields": [
                                    {
                                        "name": "book_id"
                                    },
                                    {
                                        "name": "average_rating"
                                    }
                                ]
                            },
                            "data": [
                                {
                                    "book_id": "five-point-someone",
                                    "average_rating": "2"
                                },
                                {
                                    "book_id": "harry-potter-1",
                                    "average_rating": "4"
                                },
                                {
                                    "book_id": "harry-potter-2",
                                    "average_rating": "4"
                                },
                                {
                                    "book_id": "harry-potter-3",
                                    "average_rating": "3"
                                },
                                {
                                    "book_id": "harry-potter-4",
                                    "average_rating": "4"
                                },
                                {
                                    "book_id": "harry-potter-5",
                                    "average_rating": "3"
                                },
                                {
                                    "book_id": "harry-potter-6",
                                    "average_rating": "3"
                                },
                                {
                                    "book_id": "harry-potter-7",
                                    "average_rating": "4"
                                },
                                {
                                    "book_id": "kane-and-abel",
                                    "average_rating": "3"
                                },
                                {
                                    "book_id": "kurukshetra",
                                    "average_rating": "3"
                                },
                                {
                                    "book_id": "manas",
                                    "average_rating": "4"
                                },
                                {
                                    "book_id": "rashmirathi",
                                    "average_rating": "4"
                                },
                                {
                                    "book_id": "scion-of-ikshavaku",
                                    "average_rating": "2"
                                },
                                {
                                    "book_id": "sons-of-fortune",
                                    "average_rating": "3"
                                },
                                {
                                    "book_id": "the-accursed-god",
                                    "average_rating": "4"
                                }
                            ]
                        },
                        "text/html": [
                            "<table>",
                            "<tr><th>book_id</th><th>average_rating</th></tr>",
                            "<tr><td>five-point-someone</td><td>2</td></tr>",
                            "<tr><td>harry-potter-1</td><td>4</td></tr>",
                            "<tr><td>harry-potter-2</td><td>4</td></tr>",
                            "<tr><td>harry-potter-3</td><td>3</td></tr>",
                            "<tr><td>harry-potter-4</td><td>4</td></tr>",
                            "<tr><td>harry-potter-5</td><td>3</td></tr>",
                            "<tr><td>harry-potter-6</td><td>3</td></tr>",
                            "<tr><td>harry-potter-7</td><td>4</td></tr>",
                            "<tr><td>kane-and-abel</td><td>3</td></tr>",
                            "<tr><td>kurukshetra</td><td>3</td></tr>",
                            "<tr><td>manas</td><td>4</td></tr>",
                            "<tr><td>rashmirathi</td><td>4</td></tr>",
                            "<tr><td>scion-of-ikshavaku</td><td>2</td></tr>",
                            "<tr><td>sons-of-fortune</td><td>3</td></tr>",
                            "<tr><td>the-accursed-god</td><td>4</td></tr>",
                            "</table>"
                        ]
                    }
                }
            ],
            "execution_count": 107
        },
        {
            "cell_type": "code",
            "source": [
                "SELECT\r\n",
                "    author,\r\n",
                "    count(title) as books_count\r\n",
                "    average_rating\r\n",
                "    -- total_votes\r\n",
                "FROM\r\n",
                "    books,    \r\n",
                "    (\r\n",
                "       select\r\n",
                "            book_id,\r\n",
                "            AVG(rating) as average_rating\r\n",
                "        FROM\r\n",
                "            reviews\r\n",
                "        group by\r\n",
                "            book_id\r\n",
                "            \r\n",
                "    ) r\r\n",
                "    \r\n",
                "\r\n",
                "-- where r.author = books.author\r\n",
                "-- and r.book_id = books.book_id\r\n",
                "    \r\n",
                "group by author"
            ],
            "metadata": {
                "azdata_cell_guid": "42b01c34-827c-4b35-a11f-ca0b3ce08f6a",
                "language": "sql"
            },
            "outputs": [
                {
                    "output_type": "error",
                    "evalue": "Msg 102, Level 15, State 1, Line 4\r\nIncorrect syntax near 'average_rating'.",
                    "ename": "",
                    "traceback": []
                },
                {
                    "output_type": "error",
                    "evalue": "Msg 102, Level 15, State 1, Line 17\r\nIncorrect syntax near 'r'.",
                    "ename": "",
                    "traceback": []
                },
                {
                    "output_type": "display_data",
                    "data": {
                        "text/html": "Total execution time: 00:00:00"
                    },
                    "metadata": {}
                }
            ],
            "execution_count": 63
        },
        {
            "cell_type": "code",
            "source": [
                "select author, AVG(rating) from books, reviews where books.id = reviews.book_id group by author"
            ],
            "metadata": {
                "azdata_cell_guid": "0565b625-d781-462e-a58d-a81fc63eddc9",
                "language": "sql"
            },
            "outputs": [
                {
                    "output_type": "display_data",
                    "data": {
                        "text/html": "(6 rows affected)"
                    },
                    "metadata": {}
                },
                {
                    "output_type": "display_data",
                    "data": {
                        "text/html": "Total execution time: 00:00:00.010"
                    },
                    "metadata": {}
                },
                {
                    "output_type": "execute_result",
                    "metadata": {},
                    "execution_count": 106,
                    "data": {
                        "application/vnd.dataresource+json": {
                            "schema": {
                                "fields": [
                                    {
                                        "name": "author"
                                    },
                                    {
                                        "name": "(No column name)"
                                    }
                                ]
                            },
                            "data": [
                                {
                                    "author": "Amish",
                                    "(No column name)": "2"
                                },
                                {
                                    "author": "Chetan Bhagat",
                                    "(No column name)": "2"
                                },
                                {
                                    "author": "Jeffrey Archer",
                                    "(No column name)": "3"
                                },
                                {
                                    "author": "JK Rowlings",
                                    "(No column name)": "3"
                                },
                                {
                                    "author": "Ramdhari Singh Dinkar",
                                    "(No column name)": "3"
                                },
                                {
                                    "author": "Vivek Dutta Mishra",
                                    "(No column name)": "4"
                                }
                            ]
                        },
                        "text/html": [
                            "<table>",
                            "<tr><th>author</th><th>(No column name)</th></tr>",
                            "<tr><td>Amish</td><td>2</td></tr>",
                            "<tr><td>Chetan Bhagat</td><td>2</td></tr>",
                            "<tr><td>Jeffrey Archer</td><td>3</td></tr>",
                            "<tr><td>JK Rowlings</td><td>3</td></tr>",
                            "<tr><td>Ramdhari Singh Dinkar</td><td>3</td></tr>",
                            "<tr><td>Vivek Dutta Mishra</td><td>4</td></tr>",
                            "</table>"
                        ]
                    }
                }
            ],
            "execution_count": 106
        }
    ]
}