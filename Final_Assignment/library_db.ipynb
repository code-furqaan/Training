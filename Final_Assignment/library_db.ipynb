{
    "metadata": {
        "kernelspec": {
            "name": "SQL",
            "display_name": "SQL",
            "language": "sql"
        },
        "language_info": {
            "name": "sql",
            "version": ""
        }
    },
    "nbformat_minor": 2,
    "nbformat": 4,
    "cells": [
        {
            "cell_type": "code",
            "source": [
                "CREATE DATABASE library_db"
            ],
            "metadata": {
                "azdata_cell_guid": "2fbfa016-03c0-4794-bf55-51fdcc576125",
                "language": "sql"
            },
            "outputs": [
                {
                    "output_type": "display_data",
                    "data": {
                        "text/html": "Commands completed successfully."
                    },
                    "metadata": {}
                },
                {
                    "output_type": "display_data",
                    "data": {
                        "text/html": "Total execution time: 00:00:00.654"
                    },
                    "metadata": {}
                }
            ],
            "execution_count": 1
        },
        {
            "cell_type": "code",
            "source": [
                "use library_db"
            ],
            "metadata": {
                "language": "sql",
                "azdata_cell_guid": "73884a22-e676-4e83-bd7c-8d257b60d6f1"
            },
            "outputs": [
                {
                    "output_type": "display_data",
                    "data": {
                        "text/html": "Commands completed successfully."
                    },
                    "metadata": {}
                },
                {
                    "output_type": "display_data",
                    "data": {
                        "text/html": "Total execution time: 00:00:00.001"
                    },
                    "metadata": {}
                }
            ],
            "execution_count": 2
        },
        {
            "cell_type": "code",
            "source": [
                "CREATE TABLE Books (\r\n",
                "    bookid VARCHAR(50) PRIMARY KEY,\r\n",
                "    title VARCHAR(255),\r\n",
                "    details TEXT,\r\n",
                "    authorid VARCHAR(10) FOREIGN KEY (authorid) REFERENCES Authors(authorid)\r\n",
                ");"
            ],
            "metadata": {
                "language": "sql",
                "azdata_cell_guid": "d7c8a378-1f0f-45f4-b1d1-9298cead1c11"
            },
            "outputs": [
                {
                    "output_type": "error",
                    "evalue": "Msg 1767, Level 16, State 0, Line 1\r\nForeign key 'FK__Books__authorid__37A5467C' references invalid table 'Authors'.",
                    "ename": "",
                    "traceback": []
                },
                {
                    "output_type": "error",
                    "evalue": "Msg 1750, Level 16, State 1, Line 1\r\nCould not create constraint or index. See previous errors.",
                    "ename": "",
                    "traceback": []
                },
                {
                    "output_type": "display_data",
                    "data": {
                        "text/html": "Total execution time: 00:00:00.008"
                    },
                    "metadata": {}
                }
            ],
            "execution_count": 3
        },
        {
            "cell_type": "code",
            "source": [
                "INSERT  \r\n",
                "    INTO  \r\n",
                "        Books(bookid,title,details,authorid)\r\n",
                "    VALUES \r\n",
                "        ('kane-and-abel','Kane and Abel','A book by jeffrey archer','j_a'),\r\n",
                "        ('rashmirathi','Rashmirathi','A book by Ramdhari sing dinkar','r_s_d'),\r\n",
                "        ('sons-of-fortune','Sons of Fortune','A book by jeffrey archer','j_a'),\r\n",
                "        ('manas','Manas','A book by Vivek dutta mishra','v_d_m'),\r\n",
                "        ('summons','Summons','A book by John Grisham','j_g'),\r\n",
                "        ('five-point-someone','Five Point SomeOne','A book by Ramdhari sing dinkar','r_s_d'),\r\n",
                "        ('scion-of-ikshavaku','The Scion of Ikshavaku','A book by Amish','amish'),\r\n",
                "        ('the-accursed-god','The Accursed God','A book by Vivek dutta mishra','v_d_m');"
            ],
            "metadata": {
                "language": "sql",
                "azdata_cell_guid": "2132a294-f463-479d-91f4-05dbf6c88374"
            },
            "outputs": [
                {
                    "output_type": "error",
                    "evalue": "Msg 208, Level 16, State 1, Line 1\r\nInvalid object name 'Books'.",
                    "ename": "",
                    "traceback": []
                },
                {
                    "output_type": "display_data",
                    "data": {
                        "text/html": "Total execution time: 00:00:00.003"
                    },
                    "metadata": {}
                }
            ],
            "execution_count": 4
        },
        {
            "cell_type": "code",
            "source": [
                "CREATE TABLE Authors (\r\n",
                "    authorid VARCHAR(10) PRIMARY KEY ,\r\n",
                "    name VARCHAR(255),\r\n",
                "    bio TEXT,\r\n",
                ");"
            ],
            "metadata": {
                "language": "sql",
                "azdata_cell_guid": "31746be2-0561-4d2d-85ee-383033422fea"
            },
            "outputs": [
                {
                    "output_type": "display_data",
                    "data": {
                        "text/html": "Commands completed successfully."
                    },
                    "metadata": {}
                },
                {
                    "output_type": "display_data",
                    "data": {
                        "text/html": "Total execution time: 00:00:00.071"
                    },
                    "metadata": {}
                }
            ],
            "execution_count": 5
        },
        {
            "cell_type": "code",
            "source": [
                "INSERT into Authors(authorid,name,bio) VALUES('amish','Amish','Wrote the Scion of ikshvaku'),\r\n",
                "                                             ('c_b','Chetan Bhagat','Wrote many fictional stories'),\r\n",
                "                                             ('j_a','Jeffrey Archer','Wrote 2 books present in database'),\r\n",
                "                                             ('jk','JK Rowlings','Wrote 7 parts of Harry Potter'),\r\n",
                "                                             ('j_g','John Grisham','Wrote 1 book'),\r\n",
                "                                             ('r_s_d','Ramdhari Singh Dinkar','Wrote 2 books recorded in database'),\r\n",
                "                                             ('v_d_m','Vivek Dutta Mishra','Wrote 2 books');"
            ],
            "metadata": {
                "language": "sql",
                "azdata_cell_guid": "f96967a8-9601-4541-a058-0ba6b1e20ff0"
            },
            "outputs": [
                {
                    "output_type": "display_data",
                    "data": {
                        "text/html": "(7 rows affected)"
                    },
                    "metadata": {}
                },
                {
                    "output_type": "display_data",
                    "data": {
                        "text/html": "Total execution time: 00:00:00.077"
                    },
                    "metadata": {}
                }
            ],
            "execution_count": 6
        },
        {
            "cell_type": "code",
            "source": [
                "CREATE TABLE Users (\r\n",
                "    userid INT PRIMARY KEY,\r\n",
                "    username VARCHAR(255),\r\n",
                "    password VARCHAR(255)\r\n",
                ");"
            ],
            "metadata": {
                "language": "sql",
                "azdata_cell_guid": "2a9868fd-184a-411b-97ae-185e453c5a2e"
            },
            "outputs": [
                {
                    "output_type": "display_data",
                    "data": {
                        "text/html": "Commands completed successfully."
                    },
                    "metadata": {}
                },
                {
                    "output_type": "display_data",
                    "data": {
                        "text/html": "Total execution time: 00:00:00.071"
                    },
                    "metadata": {}
                }
            ],
            "execution_count": 7
        },
        {
            "cell_type": "code",
            "source": [
                "INSERT\r\n",
                "    INTO\r\n",
                "        Users (userid,username,password)\r\n",
                "    VALUES\r\n",
                "        (1,'Yasaswini','yassu@123'),\r\n",
                "        (2,'Rama','rama@123'),\r\n",
                "        (3,'Akanksha','aku@123');"
            ],
            "metadata": {
                "language": "sql",
                "azdata_cell_guid": "06c8fde9-1c6e-41d7-927f-46331a488c41"
            },
            "outputs": [
                {
                    "output_type": "display_data",
                    "data": {
                        "text/html": "(3 rows affected)"
                    },
                    "metadata": {}
                },
                {
                    "output_type": "display_data",
                    "data": {
                        "text/html": "Total execution time: 00:00:00.070"
                    },
                    "metadata": {}
                }
            ],
            "execution_count": 8
        },
        {
            "cell_type": "code",
            "source": [
                "CREATE TABLE Reviews (\r\n",
                "    reviewid INT ,\r\n",
                "    bookid VARCHAR(50) FOREIGN KEY (bookid) REFERENCES Books(bookid),\r\n",
                "    userid INT FOREIGN KEY (userid) REFERENCES Users(userid),\r\n",
                "    rating INT,\r\n",
                "    review_text TEXT\r\n",
                ");"
            ],
            "metadata": {
                "language": "sql",
                "azdata_cell_guid": "a0e173b6-7442-4653-82a3-20cde4abc70b"
            },
            "outputs": [
                {
                    "output_type": "error",
                    "evalue": "Msg 1767, Level 16, State 0, Line 1\r\nForeign key 'FK__Reviews__bookid__3D5E1FD2' references invalid table 'Books'.",
                    "ename": "",
                    "traceback": []
                },
                {
                    "output_type": "error",
                    "evalue": "Msg 1750, Level 16, State 1, Line 1\r\nCould not create constraint or index. See previous errors.",
                    "ename": "",
                    "traceback": []
                },
                {
                    "output_type": "display_data",
                    "data": {
                        "text/html": "Total execution time: 00:00:00.004"
                    },
                    "metadata": {}
                }
            ],
            "execution_count": 9
        },
        {
            "cell_type": "code",
            "source": [
                "INSERT INTO  \r\n",
                "    REVIEWS(reviewid, bookid,userid, rating,review_text) \r\n",
                "VALUES \r\n",
                "    (1,'kane-and-abel',1,4,'Nice Book'),\r\n",
                "    (2,'rashmirathi',2,3.5,'Good book'),\r\n",
                "    (3,'sons-of-fortune',3,4.5,'Thoughtfull'),\r\n",
                "    (4,'manas',1,4.7,'Good Book'),\r\n",
                "    (5,'summons',2,3.9,'Amazing'),\r\n",
                "    (6,'five-point-someone',3,3,'Great work'),\r\n",
                "    (7,'scion-of-ikshavaku',1,3.8,'Nice creativity'),\r\n",
                "    (8,'the-accursed-god',2,4.2,'Nice'); "
            ],
            "metadata": {
                "language": "sql",
                "azdata_cell_guid": "fbe761e1-cee0-4949-8f76-55268c8b1dca"
            },
            "outputs": [
                {
                    "output_type": "error",
                    "evalue": "Msg 208, Level 16, State 1, Line 1\r\nInvalid object name 'REVIEWS'.",
                    "ename": "",
                    "traceback": []
                },
                {
                    "output_type": "display_data",
                    "data": {
                        "text/html": "Total execution time: 00:00:00.003"
                    },
                    "metadata": {}
                }
            ],
            "execution_count": 10
        },
        {
            "cell_type": "code",
            "source": [
                "INSERT INTO  \r\n",
                "    REVIEWS(reviewid, bookid,userid, rating,review_text) \r\n",
                "VALUES \r\n",
                "    (1,'kane-and-abel',1,4,'Nice Book');"
            ],
            "metadata": {
                "language": "sql",
                "azdata_cell_guid": "c7b7ef5a-7d2d-4941-b5b6-611ddc56f110"
            },
            "outputs": [
                {
                    "output_type": "error",
                    "evalue": "Msg 208, Level 16, State 1, Line 1\r\nInvalid object name 'REVIEWS'.",
                    "ename": "",
                    "traceback": []
                },
                {
                    "output_type": "display_data",
                    "data": {
                        "text/html": "Total execution time: 00:00:00.001"
                    },
                    "metadata": {}
                }
            ],
            "execution_count": 11
        }
    ]
}