{
 "cells": [
  {
   "cell_type": "code",
   "execution_count": 38,
   "id": "ded6c1ef",
   "metadata": {},
   "outputs": [],
   "source": [
    "import time"
   ]
  },
  {
   "cell_type": "code",
   "execution_count": 39,
   "id": "ee1a5e1f",
   "metadata": {},
   "outputs": [],
   "source": [
    "class custom_int(int):\n",
    "    time_taken = 0"
   ]
  },
  {
   "cell_type": "code",
   "execution_count": 40,
   "id": "5f7ecfe2",
   "metadata": {},
   "outputs": [],
   "source": [
    "def preformance_log(fn):\n",
    "    def function(n):\n",
    "        start_time = time.time()\n",
    "        result =  fn(n)\n",
    "        end_time = time.time()\n",
    "        # print(fn.__name__ + \" took \" + str(end_time - start_time) + \" seconds\")\n",
    "        time_taken = time.time() - start_time\n",
    "        print(f'time taken: {time_taken}')\n",
    "        # @property\n",
    "        # result.time_taken() = time_taken\n",
    "        \n",
    "        return result\n",
    "\n",
    "    return function"
   ]
  },
  {
   "cell_type": "code",
   "execution_count": 41,
   "id": "3dd878c8",
   "metadata": {},
   "outputs": [],
   "source": [
    "\n",
    "def cached(fn):\n",
    "    cache = dict()\n",
    "    def function(n):\n",
    "        if n in cache:\n",
    "            return cache[n]\n",
    "        else:\n",
    "            start_time = time.time()\n",
    "            factorial =  fn(n)\n",
    "            factorial.time_taken = time.time() - start_time\n",
    "            cache[n] = factorial\n",
    "            return factorial\n",
    "\n",
    "    return function"
   ]
  },
  {
   "cell_type": "code",
   "execution_count": 42,
   "id": "ad3af9e9-ff54-43ce-b547-3e08e37bd222",
   "metadata": {},
   "outputs": [
    {
     "ename": "AttributeError",
     "evalue": "'int' object has no attribute 'time_taken'",
     "output_type": "error",
     "traceback": [
      "\u001b[1;31m---------------------------------------------------------------------------\u001b[0m",
      "\u001b[1;31mAttributeError\u001b[0m                            Traceback (most recent call last)",
      "\u001b[1;32mc:\\Users\\hashifu\\OneDrive - Ecolab\\Documents\\Training\\Python\\Day 12\\Assignment 12.1.ipynb Cell 5\u001b[0m line \u001b[0;36m1\n\u001b[0;32m      <a href='vscode-notebook-cell:/c%3A/Users/hashifu/OneDrive%20-%20Ecolab/Documents/Training/Python/Day%2012/Assignment%2012.1.ipynb#W4sZmlsZQ%3D%3D?line=7'>8</a>\u001b[0m         fn\u001b[39m*\u001b[39m\u001b[39m=\u001b[39mi\n\u001b[0;32m      <a href='vscode-notebook-cell:/c%3A/Users/hashifu/OneDrive%20-%20Ecolab/Documents/Training/Python/Day%2012/Assignment%2012.1.ipynb#W4sZmlsZQ%3D%3D?line=8'>9</a>\u001b[0m     \u001b[39mreturn\u001b[39;00m fn\n\u001b[1;32m---> <a href='vscode-notebook-cell:/c%3A/Users/hashifu/OneDrive%20-%20Ecolab/Documents/Training/Python/Day%2012/Assignment%2012.1.ipynb#W4sZmlsZQ%3D%3D?line=10'>11</a>\u001b[0m x \u001b[39m=\u001b[39m factorial(\u001b[39m5\u001b[39;49m)\n\u001b[0;32m     <a href='vscode-notebook-cell:/c%3A/Users/hashifu/OneDrive%20-%20Ecolab/Documents/Training/Python/Day%2012/Assignment%2012.1.ipynb#W4sZmlsZQ%3D%3D?line=11'>12</a>\u001b[0m \u001b[39mprint\u001b[39m(\u001b[39mlen\u001b[39m(x))\n\u001b[0;32m     <a href='vscode-notebook-cell:/c%3A/Users/hashifu/OneDrive%20-%20Ecolab/Documents/Training/Python/Day%2012/Assignment%2012.1.ipynb#W4sZmlsZQ%3D%3D?line=13'>14</a>\u001b[0m \u001b[39mprint\u001b[39m(x\u001b[39m.\u001b[39mtime_taken)\n",
      "\u001b[1;32mc:\\Users\\hashifu\\OneDrive - Ecolab\\Documents\\Training\\Python\\Day 12\\Assignment 12.1.ipynb Cell 5\u001b[0m line \u001b[0;36m8\n\u001b[0;32m      <a href='vscode-notebook-cell:/c%3A/Users/hashifu/OneDrive%20-%20Ecolab/Documents/Training/Python/Day%2012/Assignment%2012.1.ipynb#W4sZmlsZQ%3D%3D?line=5'>6</a>\u001b[0m \u001b[39melse\u001b[39;00m:\n\u001b[0;32m      <a href='vscode-notebook-cell:/c%3A/Users/hashifu/OneDrive%20-%20Ecolab/Documents/Training/Python/Day%2012/Assignment%2012.1.ipynb#W4sZmlsZQ%3D%3D?line=6'>7</a>\u001b[0m     start_time \u001b[39m=\u001b[39m time\u001b[39m.\u001b[39mtime()\n\u001b[1;32m----> <a href='vscode-notebook-cell:/c%3A/Users/hashifu/OneDrive%20-%20Ecolab/Documents/Training/Python/Day%2012/Assignment%2012.1.ipynb#W4sZmlsZQ%3D%3D?line=7'>8</a>\u001b[0m     factorial \u001b[39m=\u001b[39m  fn(n)\n\u001b[0;32m      <a href='vscode-notebook-cell:/c%3A/Users/hashifu/OneDrive%20-%20Ecolab/Documents/Training/Python/Day%2012/Assignment%2012.1.ipynb#W4sZmlsZQ%3D%3D?line=8'>9</a>\u001b[0m     factorial\u001b[39m.\u001b[39mtime_taken \u001b[39m=\u001b[39m time\u001b[39m.\u001b[39mtime() \u001b[39m-\u001b[39m start_time\n\u001b[0;32m     <a href='vscode-notebook-cell:/c%3A/Users/hashifu/OneDrive%20-%20Ecolab/Documents/Training/Python/Day%2012/Assignment%2012.1.ipynb#W4sZmlsZQ%3D%3D?line=9'>10</a>\u001b[0m     cache[n] \u001b[39m=\u001b[39m factorial\n",
      "\u001b[1;32mc:\\Users\\hashifu\\OneDrive - Ecolab\\Documents\\Training\\Python\\Day 12\\Assignment 12.1.ipynb Cell 5\u001b[0m line \u001b[0;36m7\n\u001b[0;32m      <a href='vscode-notebook-cell:/c%3A/Users/hashifu/OneDrive%20-%20Ecolab/Documents/Training/Python/Day%2012/Assignment%2012.1.ipynb#W4sZmlsZQ%3D%3D?line=4'>5</a>\u001b[0m end_time \u001b[39m=\u001b[39m time\u001b[39m.\u001b[39mtime()\n\u001b[0;32m      <a href='vscode-notebook-cell:/c%3A/Users/hashifu/OneDrive%20-%20Ecolab/Documents/Training/Python/Day%2012/Assignment%2012.1.ipynb#W4sZmlsZQ%3D%3D?line=5'>6</a>\u001b[0m \u001b[39m# print(fn.__name__ + \" took \" + str(end_time - start_time) + \" seconds\")\u001b[39;00m\n\u001b[1;32m----> <a href='vscode-notebook-cell:/c%3A/Users/hashifu/OneDrive%20-%20Ecolab/Documents/Training/Python/Day%2012/Assignment%2012.1.ipynb#W4sZmlsZQ%3D%3D?line=6'>7</a>\u001b[0m result\u001b[39m.\u001b[39;49mtime_taken \u001b[39m=\u001b[39m time\u001b[39m.\u001b[39mtime() \u001b[39m-\u001b[39m start_time\n\u001b[0;32m      <a href='vscode-notebook-cell:/c%3A/Users/hashifu/OneDrive%20-%20Ecolab/Documents/Training/Python/Day%2012/Assignment%2012.1.ipynb#W4sZmlsZQ%3D%3D?line=8'>9</a>\u001b[0m \u001b[39mreturn\u001b[39;00m result\n",
      "\u001b[1;31mAttributeError\u001b[0m: 'int' object has no attribute 'time_taken'"
     ]
    }
   ],
   "source": [
    "\n",
    "@cached\n",
    "@preformance_log\n",
    "def factorial (n):\n",
    "    fn=1\n",
    "    for i in range(1,n+1):\n",
    "        time.sleep(0.5)\n",
    "        fn*=i\n",
    "    return fn\n",
    "\n",
    "x = factorial(5)\n",
    "print(len(x))\n",
    "\n",
    "print(x.time_taken)"
   ]
  }
 ],
 "metadata": {
  "kernelspec": {
   "display_name": "Python 3 (ipykernel)",
   "language": "python",
   "name": "python3"
  },
  "language_info": {
   "codemirror_mode": {
    "name": "ipython",
    "version": 3
   },
   "file_extension": ".py",
   "mimetype": "text/x-python",
   "name": "python",
   "nbconvert_exporter": "python",
   "pygments_lexer": "ipython3",
   "version": "3.11.5"
  }
 },
 "nbformat": 4,
 "nbformat_minor": 5
}
