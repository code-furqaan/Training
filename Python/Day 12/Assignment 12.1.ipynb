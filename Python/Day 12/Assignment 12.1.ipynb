{
 "cells": [
  {
   "cell_type": "code",
   "execution_count": 78,
   "id": "ded6c1ef",
   "metadata": {},
   "outputs": [],
   "source": [
    "import time"
   ]
  },
  {
   "cell_type": "code",
   "execution_count": 79,
   "id": "5f7ecfe2",
   "metadata": {},
   "outputs": [],
   "source": [
    "def preformance_log(fn):\n",
    "    def function(*args):\n",
    "        start_time = time.time()\n",
    "        result =  fn(*args)\n",
    "        time_taken = time.time() - start_time\n",
    "        print(f'time taken: {time_taken}')\n",
    "        \n",
    "        return result\n",
    "\n",
    "    return function"
   ]
  },
  {
   "cell_type": "code",
   "execution_count": 80,
   "id": "3dd878c8",
   "metadata": {},
   "outputs": [],
   "source": [
    "\n",
    "def cached(fn):\n",
    "    cache = dict()\n",
    "    def function(*args):\n",
    "        if args[0] in cache:\n",
    "            return cache[args[0]]\n",
    "        else:\n",
    "            result =  fn(*args)\n",
    "            cache[args[0]] = result\n",
    "            return result\n",
    "\n",
    "    return function"
   ]
  },
  {
   "cell_type": "code",
   "execution_count": 83,
   "id": "ad3af9e9-ff54-43ce-b547-3e08e37bd222",
   "metadata": {},
   "outputs": [
    {
     "name": "stdout",
     "output_type": "stream",
     "text": [
      "time taken: 2.506167411804199\n",
      "120\n",
      "time taken: 1.5023908615112305\n",
      "6\n",
      "120\n"
     ]
    }
   ],
   "source": [
    "\n",
    "@cached\n",
    "@preformance_log\n",
    "def factorial (n):\n",
    "    fn=1\n",
    "    for i in range(1,n+1):\n",
    "        time.sleep(0.5)\n",
    "        fn*=i\n",
    "    return fn\n",
    "\n",
    "x = factorial(5)\n",
    "print(x)\n",
    "x = factorial(3)\n",
    "print(x)\n",
    "x = factorial(5)\n",
    "print(x)"
   ]
  }
 ],
 "metadata": {
  "kernelspec": {
   "display_name": "Python 3 (ipykernel)",
   "language": "python",
   "name": "python3"
  },
  "language_info": {
   "codemirror_mode": {
    "name": "ipython",
    "version": 3
   },
   "file_extension": ".py",
   "mimetype": "text/x-python",
   "name": "python",
   "nbconvert_exporter": "python",
   "pygments_lexer": "ipython3",
   "version": "3.11.5"
  }
 },
 "nbformat": 4,
 "nbformat_minor": 5
}
