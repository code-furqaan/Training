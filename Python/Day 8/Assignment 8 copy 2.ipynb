{
 "cells": [
  {
   "attachments": {},
   "cell_type": "markdown",
   "metadata": {},
   "source": [
    "### Assignment\n",
    "\n",
    "* How can we improve the performance of  \n",
    "    * adding item to list\n",
    "    * accessing the items\n",
    "\n",
    "* add functionality to use\n",
    "    * 20 in linkedlist\n",
    "    * linkedlist.count(5)\n",
    "    * while linkedlist:  linkedlist.remove(0)\n",
    "            * should stop after removing all items from the list\n",
    "    \n",
    "\n",
    "\n",
    "\n",
    "\n"
   ]
  },
  {
   "cell_type": "code",
   "execution_count": 109,
   "metadata": {},
   "outputs": [],
   "source": [
    "class Node:\n",
    "    def __init__(self, value,next=None, previous=None):\n",
    "        self._value=value\n",
    "        self._next=next\n",
    "        self._previous=previous\n",
    "        \n",
    "class LinkedList:\n",
    "    _last = None\n",
    "    def __init__(self, *args):\n",
    "        self._first=None\n",
    "        self.append(*args)\n",
    "\n",
    "    def append(self, *args):\n",
    "        for value in args:\n",
    "            self._append(value)\n",
    "\n",
    "\n",
    "    def _append(self, value):\n",
    "        if self._first==None: # list is empty\n",
    "            self._first=Node(value)\n",
    "            self._last = self._first\n",
    "        else: # add to the end of a non-empty list\n",
    "            self._last._next=Node(value, previous=self._last)\n",
    "            self._last = self._last._next\n",
    "\n",
    "\n",
    "    #def info(self):\n",
    "    def __str__(self):\n",
    "        if self._first==None: \n",
    "            return \"LinkedList(empty)\"\n",
    "        str=\"LinkedList(\\t\"\n",
    "        n=self._first\n",
    "        while n:\n",
    "            str+=f'{n._value}\\t'\n",
    "            n=n._next\n",
    "        str+=\")\"\n",
    "        return str\n",
    "\n",
    "    #def size(self):\n",
    "    def __len__(self):\n",
    "        c=0\n",
    "        n=self._first\n",
    "        while n:\n",
    "            c+=1\n",
    "            n=n._next\n",
    "        return c\n",
    "\n",
    "    def __locate(self,index):\n",
    "        if index>=len(self):\n",
    "            raise IndexError(f'Invalid Index :{index}')\n",
    "        \n",
    "        n=self._first\n",
    "        for i in range(index):\n",
    "            n=n._next\n",
    "            \n",
    "        return n\n",
    "    \n",
    "\n",
    "\n",
    "             \n",
    "    #def get(self,index):\n",
    "    def __getitem__(self,index):\n",
    "        n=self.__locate(index)\n",
    "        return n._value  #if n else None\n",
    "    \n",
    "\n",
    "    #def set(self,index,value):\n",
    "    def __setitem__(self,index,value):\n",
    "        n=self.__locate(index)\n",
    "        n._value=value\n",
    "\n",
    "    def insert(self, index, value):\n",
    "        y=self.__locate(index)\n",
    "        x=y._previous \n",
    "\n",
    "        new_node=Node(value,previous=x,next=y)\n",
    "        \n",
    "        if x:\n",
    "            x._next=new_node\n",
    "            if x == self._last:\n",
    "                self._last = x._next\n",
    "        else:\n",
    "            self._first=new_node\n",
    "            self._last=self._first\n",
    "            \n",
    "        y._previous=new_node\n",
    "\n",
    "    def remove(self, index):\n",
    "        n=self.__locate(index)\n",
    "        \n",
    "        x= n._previous\n",
    "        y= n._next\n",
    "\n",
    "        if x:\n",
    "            x._next=y\n",
    "            if n==self._last:\n",
    "                self._last = x\n",
    "        else:\n",
    "            self._first=y\n",
    "            if n==self._last:\n",
    "                self._last = x\n",
    "\n",
    "        if y:\n",
    "            y._previous=x\n",
    "        return n._value\n",
    "    "
   ]
  },
  {
   "cell_type": "code",
   "execution_count": 110,
   "metadata": {},
   "outputs": [],
   "source": [
    "def create_list(size):\n",
    "    l=LinkedList()\n",
    "    for x in range(1,size+1):\n",
    "        l.append(x)\n",
    "\n",
    "    return l"
   ]
  },
  {
   "cell_type": "code",
   "execution_count": 111,
   "metadata": {},
   "outputs": [
    {
     "name": "stdout",
     "output_type": "stream",
     "text": [
      "Total time taken to create list is 0.024783849716186523\n"
     ]
    }
   ],
   "source": [
    "import time\n",
    "\n",
    "max=50000\n",
    "start=time.time()\n",
    "l=create_list(max)\n",
    "end=time.time()\n",
    "print(f'Total time taken to create list is {end-start}')"
   ]
  },
  {
   "cell_type": "code",
   "execution_count": 112,
   "metadata": {},
   "outputs": [
    {
     "name": "stdout",
     "output_type": "stream",
     "text": [
      "Total time taken to add element in list is 0.0\n"
     ]
    }
   ],
   "source": [
    "start=time.time()\n",
    "l.append(101)\n",
    "end=time.time()\n",
    "print(f'Total time taken to add element in list is {end-start}')"
   ]
  },
  {
   "cell_type": "code",
   "execution_count": 113,
   "metadata": {},
   "outputs": [
    {
     "name": "stdout",
     "output_type": "stream",
     "text": [
      "50001\n",
      "Total time taken to find length of list is 0.002271890640258789\n"
     ]
    }
   ],
   "source": [
    "start=time.time()\n",
    "print(len(l))\n",
    "end=time.time()\n",
    "print(f'Total time taken to find length of list is {end-start}')"
   ]
  },
  {
   "cell_type": "code",
   "execution_count": 120,
   "metadata": {},
   "outputs": [],
   "source": [
    "class Node:\n",
    "    def __init__(self, value,next=None, previous=None):\n",
    "        self._value=value\n",
    "        self._next=next\n",
    "        self._previous=previous\n",
    "        \n",
    "class LinkedList:\n",
    "    _last = None\n",
    "    def __init__(self, *args):\n",
    "        self._first=None\n",
    "        self.append(*args)\n",
    "\n",
    "    def sum_list(self):\n",
    "        sum=0\n",
    "        m=self._first\n",
    "        n=self._last\n",
    "        \n",
    "        while m!=n or m._next!=n:\n",
    "            sum = sum + m._value + n._value\n",
    "            m=m._next\n",
    "            n=n._previous\n",
    "        \n",
    "        if m==n:\n",
    "            sum+=m._value\n",
    "        else:\n",
    "            sum = sum + m._value + n._value\n",
    "        return sum\n",
    "\n",
    "    def append(self, *args):\n",
    "        for value in args:\n",
    "            self._append(value)\n",
    "\n",
    "\n",
    "    def _append(self, value):\n",
    "        if self._first==None: # list is empty\n",
    "            self._first=Node(value)\n",
    "            self._last = self._first\n",
    "        else: # add to the end of a non-empty list\n",
    "            self._last._next=Node(value, previous=self._last)\n",
    "            self._last = self._last._next\n",
    "\n",
    "    def __str__(self):\n",
    "        if self._first==None: \n",
    "            return \"LinkedList(empty)\"\n",
    "        str=\"LinkedList(\\t\"\n",
    "        n=self._first\n",
    "        while n:\n",
    "            str+=f'{n._value}\\t'\n",
    "            n=n._next\n",
    "        str+=\")\"\n",
    "        return str\n",
    "\n",
    "    #def size(self):\n",
    "    def __len__(self):\n",
    "        c=0\n",
    "        m=self._first\n",
    "        n=self._last\n",
    "        \n",
    "        while m!=n or m._next!=n:\n",
    "            c+=2\n",
    "            m=m._next\n",
    "            n=n._previous\n",
    "        c+=1 if m==n else 2\n",
    "        return c\n",
    "\n",
    "    def __locate(self,index):\n",
    "        if index>=len(self):\n",
    "            raise IndexError(f'Invalid Index :{index}')\n",
    "        \n",
    "        n=self._first\n",
    "        for i in range(index):\n",
    "            n=n._next\n",
    "            \n",
    "        return n\n",
    "    \n",
    "             \n",
    "    #def get(self,index):\n",
    "    def __getitem__(self,index):\n",
    "        n=self.__locate(index)\n",
    "        return n._value  #if n else None\n",
    "    \n",
    "\n",
    "    #def set(self,index,value):\n",
    "    def __setitem__(self,index,value):\n",
    "        n=self.__locate(index)\n",
    "        n._value=value\n",
    "\n",
    "    def insert(self, index, value):\n",
    "        y=self.__locate(index)\n",
    "        x=y._previous \n",
    "\n",
    "        new_node=Node(value,previous=x,next=y)\n",
    "        \n",
    "        if x:\n",
    "            x._next=new_node\n",
    "            if x == self._last:\n",
    "                self._last = x._next\n",
    "        else:\n",
    "            self._first=new_node\n",
    "            self._last=self._first\n",
    "            \n",
    "        y._previous=new_node\n",
    "\n",
    "    def remove(self, index):\n",
    "        n=self.__locate(index)\n",
    "        \n",
    "        x= n._previous\n",
    "        y= n._next\n",
    "\n",
    "        if x:\n",
    "            x._next=y\n",
    "            if n==self._last:\n",
    "                self._last = x\n",
    "        else:\n",
    "            self._first=y\n",
    "            if n==self._last:\n",
    "                self._last = x\n",
    "\n",
    "        if y:\n",
    "            y._previous=x\n",
    "        return n._value\n",
    "    \n",
    "    \n",
    "    "
   ]
  },
  {
   "cell_type": "code",
   "execution_count": 115,
   "metadata": {},
   "outputs": [
    {
     "name": "stdout",
     "output_type": "stream",
     "text": [
      "50001\n",
      "Total time taken to find length of list is 0.0020203590393066406\n"
     ]
    }
   ],
   "source": [
    "start=time.time()\n",
    "print(len(l))\n",
    "end=time.time()\n",
    "print(f'Total time taken to find length of list is {end-start}')"
   ]
  },
  {
   "cell_type": "code",
   "execution_count": 116,
   "metadata": {},
   "outputs": [],
   "source": [
    "def sum_list(l):\n",
    "    sum=0\n",
    "    for i in range(len(l)):\n",
    "        sum+=l[i]\n",
    "    return sum"
   ]
  },
  {
   "cell_type": "code",
   "execution_count": 117,
   "metadata": {},
   "outputs": [
    {
     "ename": "KeyboardInterrupt",
     "evalue": "",
     "output_type": "error",
     "traceback": [
      "\u001b[1;31m---------------------------------------------------------------------------\u001b[0m",
      "\u001b[1;31mKeyboardInterrupt\u001b[0m                         Traceback (most recent call last)",
      "\u001b[1;32mc:\\Users\\hashifu\\OneDrive - Ecolab\\Documents\\Training\\Python\\Day 8\\Assignment 8.ipynb Cell 10\u001b[0m line \u001b[0;36m2\n\u001b[0;32m      <a href='vscode-notebook-cell:/c%3A/Users/hashifu/OneDrive%20-%20Ecolab/Documents/Training/Python/Day%208/Assignment%208.ipynb#X64sZmlsZQ%3D%3D?line=0'>1</a>\u001b[0m start\u001b[39m=\u001b[39mtime\u001b[39m.\u001b[39mtime()\n\u001b[1;32m----> <a href='vscode-notebook-cell:/c%3A/Users/hashifu/OneDrive%20-%20Ecolab/Documents/Training/Python/Day%208/Assignment%208.ipynb#X64sZmlsZQ%3D%3D?line=1'>2</a>\u001b[0m s \u001b[39m=\u001b[39m sum_list(l)\n\u001b[0;32m      <a href='vscode-notebook-cell:/c%3A/Users/hashifu/OneDrive%20-%20Ecolab/Documents/Training/Python/Day%208/Assignment%208.ipynb#X64sZmlsZQ%3D%3D?line=2'>3</a>\u001b[0m end\u001b[39m=\u001b[39mtime\u001b[39m.\u001b[39mtime()\n\u001b[0;32m      <a href='vscode-notebook-cell:/c%3A/Users/hashifu/OneDrive%20-%20Ecolab/Documents/Training/Python/Day%208/Assignment%208.ipynb#X64sZmlsZQ%3D%3D?line=3'>4</a>\u001b[0m \u001b[39mprint\u001b[39m(\u001b[39mf\u001b[39m\u001b[39m'\u001b[39m\u001b[39mTotal time taken to find length of list is \u001b[39m\u001b[39m{\u001b[39;00mend\u001b[39m-\u001b[39mstart\u001b[39m}\u001b[39;00m\u001b[39m'\u001b[39m)\n",
      "\u001b[1;32mc:\\Users\\hashifu\\OneDrive - Ecolab\\Documents\\Training\\Python\\Day 8\\Assignment 8.ipynb Cell 10\u001b[0m line \u001b[0;36m4\n\u001b[0;32m      <a href='vscode-notebook-cell:/c%3A/Users/hashifu/OneDrive%20-%20Ecolab/Documents/Training/Python/Day%208/Assignment%208.ipynb#X64sZmlsZQ%3D%3D?line=1'>2</a>\u001b[0m \u001b[39msum\u001b[39m\u001b[39m=\u001b[39m\u001b[39m0\u001b[39m\n\u001b[0;32m      <a href='vscode-notebook-cell:/c%3A/Users/hashifu/OneDrive%20-%20Ecolab/Documents/Training/Python/Day%208/Assignment%208.ipynb#X64sZmlsZQ%3D%3D?line=2'>3</a>\u001b[0m \u001b[39mfor\u001b[39;00m i \u001b[39min\u001b[39;00m \u001b[39mrange\u001b[39m(\u001b[39mlen\u001b[39m(l)):\n\u001b[1;32m----> <a href='vscode-notebook-cell:/c%3A/Users/hashifu/OneDrive%20-%20Ecolab/Documents/Training/Python/Day%208/Assignment%208.ipynb#X64sZmlsZQ%3D%3D?line=3'>4</a>\u001b[0m     \u001b[39msum\u001b[39m\u001b[39m+\u001b[39m\u001b[39m=\u001b[39ml[i]\n\u001b[0;32m      <a href='vscode-notebook-cell:/c%3A/Users/hashifu/OneDrive%20-%20Ecolab/Documents/Training/Python/Day%208/Assignment%208.ipynb#X64sZmlsZQ%3D%3D?line=4'>5</a>\u001b[0m \u001b[39mreturn\u001b[39;00m \u001b[39msum\u001b[39m\n",
      "\u001b[1;32mc:\\Users\\hashifu\\OneDrive - Ecolab\\Documents\\Training\\Python\\Day 8\\Assignment 8.ipynb Cell 10\u001b[0m line \u001b[0;36m6\n\u001b[0;32m     <a href='vscode-notebook-cell:/c%3A/Users/hashifu/OneDrive%20-%20Ecolab/Documents/Training/Python/Day%208/Assignment%208.ipynb#X64sZmlsZQ%3D%3D?line=61'>62</a>\u001b[0m \u001b[39mdef\u001b[39;00m \u001b[39m__getitem__\u001b[39m(\u001b[39mself\u001b[39m,index):\n\u001b[1;32m---> <a href='vscode-notebook-cell:/c%3A/Users/hashifu/OneDrive%20-%20Ecolab/Documents/Training/Python/Day%208/Assignment%208.ipynb#X64sZmlsZQ%3D%3D?line=62'>63</a>\u001b[0m     n\u001b[39m=\u001b[39m\u001b[39mself\u001b[39;49m\u001b[39m.\u001b[39;49m__locate(index)\n\u001b[0;32m     <a href='vscode-notebook-cell:/c%3A/Users/hashifu/OneDrive%20-%20Ecolab/Documents/Training/Python/Day%208/Assignment%208.ipynb#X64sZmlsZQ%3D%3D?line=63'>64</a>\u001b[0m     \u001b[39mreturn\u001b[39;00m n\u001b[39m.\u001b[39m_value\n",
      "\u001b[1;32mc:\\Users\\hashifu\\OneDrive - Ecolab\\Documents\\Training\\Python\\Day 8\\Assignment 8.ipynb Cell 10\u001b[0m line \u001b[0;36m5\n\u001b[0;32m     <a href='vscode-notebook-cell:/c%3A/Users/hashifu/OneDrive%20-%20Ecolab/Documents/Training/Python/Day%208/Assignment%208.ipynb#X64sZmlsZQ%3D%3D?line=51'>52</a>\u001b[0m n\u001b[39m=\u001b[39m\u001b[39mself\u001b[39m\u001b[39m.\u001b[39m_first\n\u001b[0;32m     <a href='vscode-notebook-cell:/c%3A/Users/hashifu/OneDrive%20-%20Ecolab/Documents/Training/Python/Day%208/Assignment%208.ipynb#X64sZmlsZQ%3D%3D?line=52'>53</a>\u001b[0m \u001b[39mfor\u001b[39;00m i \u001b[39min\u001b[39;00m \u001b[39mrange\u001b[39m(index):\n\u001b[1;32m---> <a href='vscode-notebook-cell:/c%3A/Users/hashifu/OneDrive%20-%20Ecolab/Documents/Training/Python/Day%208/Assignment%208.ipynb#X64sZmlsZQ%3D%3D?line=53'>54</a>\u001b[0m     n\u001b[39m=\u001b[39mn\u001b[39m.\u001b[39m_next\n\u001b[0;32m     <a href='vscode-notebook-cell:/c%3A/Users/hashifu/OneDrive%20-%20Ecolab/Documents/Training/Python/Day%208/Assignment%208.ipynb#X64sZmlsZQ%3D%3D?line=55'>56</a>\u001b[0m \u001b[39mreturn\u001b[39;00m n\n",
      "\u001b[1;31mKeyboardInterrupt\u001b[0m: "
     ]
    }
   ],
   "source": [
    "start=time.time()\n",
    "s = sum_list(l)\n",
    "end=time.time()\n",
    "print(f'Total time taken to find length of list is {end-start}')\n"
   ]
  },
  {
   "cell_type": "code",
   "execution_count": null,
   "metadata": {},
   "outputs": [],
   "source": [
    "# def sum_list(l):\n",
    "#     sum=0\n",
    "#     m=l._first\n",
    "#     n=l._last\n",
    "    \n",
    "#     while m!=n or m._next!=n:\n",
    "#         sum = sum + m._value + n._value\n",
    "#         m=m._next\n",
    "#         n=n._previous\n",
    "    \n",
    "#     if m==n:\n",
    "#         sum+=m._value\n",
    "#     else:\n",
    "#         sum = sum + m._value + n._value\n",
    "#     return sum"
   ]
  },
  {
   "cell_type": "code",
   "execution_count": 118,
   "metadata": {},
   "outputs": [
    {
     "ename": "AttributeError",
     "evalue": "'LinkedList' object has no attribute 'sum_list'",
     "output_type": "error",
     "traceback": [
      "\u001b[1;31m---------------------------------------------------------------------------\u001b[0m",
      "\u001b[1;31mAttributeError\u001b[0m                            Traceback (most recent call last)",
      "\u001b[1;32mc:\\Users\\hashifu\\OneDrive - Ecolab\\Documents\\Training\\Python\\Day 8\\Assignment 8.ipynb Cell 12\u001b[0m line \u001b[0;36m2\n\u001b[0;32m      <a href='vscode-notebook-cell:/c%3A/Users/hashifu/OneDrive%20-%20Ecolab/Documents/Training/Python/Day%208/Assignment%208.ipynb#X65sZmlsZQ%3D%3D?line=0'>1</a>\u001b[0m start\u001b[39m=\u001b[39mtime\u001b[39m.\u001b[39mtime()\n\u001b[1;32m----> <a href='vscode-notebook-cell:/c%3A/Users/hashifu/OneDrive%20-%20Ecolab/Documents/Training/Python/Day%208/Assignment%208.ipynb#X65sZmlsZQ%3D%3D?line=1'>2</a>\u001b[0m \u001b[39mprint\u001b[39m(l\u001b[39m.\u001b[39;49msum_list())\n\u001b[0;32m      <a href='vscode-notebook-cell:/c%3A/Users/hashifu/OneDrive%20-%20Ecolab/Documents/Training/Python/Day%208/Assignment%208.ipynb#X65sZmlsZQ%3D%3D?line=2'>3</a>\u001b[0m end\u001b[39m=\u001b[39mtime\u001b[39m.\u001b[39mtime()\n\u001b[0;32m      <a href='vscode-notebook-cell:/c%3A/Users/hashifu/OneDrive%20-%20Ecolab/Documents/Training/Python/Day%208/Assignment%208.ipynb#X65sZmlsZQ%3D%3D?line=3'>4</a>\u001b[0m \u001b[39mprint\u001b[39m(\u001b[39mf\u001b[39m\u001b[39m'\u001b[39m\u001b[39mTotal time taken to find length of list is \u001b[39m\u001b[39m{\u001b[39;00mend\u001b[39m-\u001b[39mstart\u001b[39m}\u001b[39;00m\u001b[39m'\u001b[39m)\n",
      "\u001b[1;31mAttributeError\u001b[0m: 'LinkedList' object has no attribute 'sum_list'"
     ]
    }
   ],
   "source": [
    "start=time.time()\n",
    "print(l.)\n",
    "end=time.time()\n",
    "print(f'Total time taken to find length of list is {end-start}')\n"
   ]
  }
 ],
 "metadata": {
  "kernelspec": {
   "display_name": "Python 3",
   "language": "python",
   "name": "python3"
  },
  "language_info": {
   "codemirror_mode": {
    "name": "ipython",
    "version": 3
   },
   "file_extension": ".py",
   "mimetype": "text/x-python",
   "name": "python",
   "nbconvert_exporter": "python",
   "pygments_lexer": "ipython3",
   "version": "3.11.5"
  },
  "orig_nbformat": 4,
  "vscode": {
   "interpreter": {
    "hash": "bc4e78314997db9a44b6830e0aa6b75a33973256eb5fdaf587cb7b38c9328874"
   }
  }
 },
 "nbformat": 4,
 "nbformat_minor": 2
}
