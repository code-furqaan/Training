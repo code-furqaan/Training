{
 "cells": [
  {
   "cell_type": "code",
   "execution_count": 4,
   "metadata": {},
   "outputs": [],
   "source": [
    "class Book:\n",
    "    def __init__(self, book_id, title, author, price, rating):\n",
    "        self.id = book_id\n",
    "        self.title = title\n",
    "        self.author = author\n",
    "        self.price = price\n",
    "        self.rating = rating\n",
    "\n",
    "class library:\n",
    "    def __init__(self):\n",
    "        self.books = []\n",
    "\n",
    "    def add_book(self, book):\n",
    "        self.books.append(book)\n",
    "\n",
    "    def find_by_id(self, book_id):\n",
    "        return [book for book in self.books if book.id == book_id]\n",
    "\n",
    "    def find_by_author(self, author_name):\n",
    "        return [book for book in self.books if book.author == author_name]\n",
    "\n",
    "    def find_by_rating(self, min_rating, max_rating):\n",
    "        return [book for book in self.books if min_rating <= book.rating <= max_rating]\n",
    "\n",
    "    def find_by_price(self, min_price, max_price):\n",
    "        return [book for book in self.books if min_price <= book.price <= max_price]\n",
    "    def info(self):\n",
    "        for i in self.books:\n",
    "            print(f\"{i.id},{i.title},{i.author},{i.price},{i.rating}\")"
   ]
  },
  {
   "cell_type": "code",
   "execution_count": 5,
   "metadata": {},
   "outputs": [
    {
     "name": "stdout",
     "output_type": "stream",
     "text": [
      "Books list:\n",
      "1,python,Gudio,300,1\n",
      "2,Java,James,100,5\n",
      "finding book by id=102:\n",
      "finding book by author=shreya:\n",
      "finding books by rating between 2 and 5\n",
      "finding book by price between 100 and 200\n"
     ]
    },
    {
     "data": {
      "text/plain": [
       "[<__main__.Book at 0x28464726b10>]"
      ]
     },
     "execution_count": 5,
     "metadata": {},
     "output_type": "execute_result"
    }
   ],
   "source": [
    "b1=Book(1,\"python\",\"Gudio\",300,1)\n",
    "b2=Book(2,\"Java\",\"James\",100,5)\n",
    "\n",
    "l=library()\n",
    "l.add_book(b1)\n",
    "l.add_book(b2)\n",
    "\n",
    "print(\"Books list:\")\n",
    "l.info()\n",
    "\n",
    "print(\"finding book by id=102:\")\n",
    "l.find_by_id(1)\n",
    "\n",
    "print(\"finding book by author=shreya:\")\n",
    "l.find_by_author(\"James\")\n",
    "\n",
    "print(\"finding books by rating between 2 and 5\")\n",
    "l.find_by_rating(2,5)\n",
    "\n",
    "print(\"finding book by price between 100 and 200\")\n",
    "l.find_by_price(100,200)"
   ]
  }
 ],
 "metadata": {
  "kernelspec": {
   "display_name": "Python 3",
   "language": "python",
   "name": "python3"
  },
  "language_info": {
   "codemirror_mode": {
    "name": "ipython",
    "version": 3
   },
   "file_extension": ".py",
   "mimetype": "text/x-python",
   "name": "python",
   "nbconvert_exporter": "python",
   "pygments_lexer": "ipython3",
   "version": "3.11.5"
  },
  "orig_nbformat": 4
 },
 "nbformat": 4,
 "nbformat_minor": 2
}
