{
 "cells": [
  {
   "cell_type": "markdown",
   "id": "f8513fb7-9321-4ec9-b48a-e441b81524b9",
   "metadata": {},
   "source": [
    "## File Handling in Python\n",
    "\n",
    "* file handling i/o is one of the key features of any language\n",
    "* it is so important that is built-in in \\_\\_builtins\\_\\_ module\n",
    "\n",
    "\n"
   ]
  },
  {
   "cell_type": "code",
   "execution_count": 4,
   "id": "180a1505-1d19-4731-aabe-27d191297a5b",
   "metadata": {},
   "outputs": [
    {
     "name": "stdout",
     "output_type": "stream",
     "text": [
      "Writing sample.txt\n"
     ]
    }
   ],
   "source": [
    "%%file sample.txt\n",
    "\n",
    "This is a sample text file that contains\n",
    "Few lines of non-sense text\n",
    "The only purpose of existence is to be able to read\n",
    "using file operaitons in python"
   ]
  },
  {
   "cell_type": "markdown",
   "id": "5a360d28-309f-4b4d-aba6-9a29ab17b63d",
   "metadata": {},
   "source": [
    "### opening a existing file to read it's content"
   ]
  },
  {
   "cell_type": "code",
   "execution_count": 5,
   "id": "2b63b6f3-c394-4ad0-9834-3ca3e83d96cf",
   "metadata": {},
   "outputs": [
    {
     "name": "stdout",
     "output_type": "stream",
     "text": [
      "<class '_io.TextIOWrapper'>\n"
     ]
    }
   ],
   "source": [
    "f = open('sample.txt')\n",
    "print(type(f))"
   ]
  },
  {
   "cell_type": "markdown",
   "id": "babdce68-f42a-4d31-9ed7-af04128d56d6",
   "metadata": {},
   "source": [
    "### read the content of the file\n",
    "\n",
    "* we can call read to read entire file in one go"
   ]
  },
  {
   "cell_type": "code",
   "execution_count": 6,
   "id": "a37a6e63-f016-40b6-8543-7ea4058b2a7b",
   "metadata": {},
   "outputs": [],
   "source": [
    "data = f.read()"
   ]
  },
  {
   "cell_type": "code",
   "execution_count": 7,
   "id": "e85141e5-f832-4f1c-b8d3-6e54f66bdf03",
   "metadata": {},
   "outputs": [
    {
     "name": "stdout",
     "output_type": "stream",
     "text": [
      "\n",
      "This is a sample text file that contains\n",
      "Few lines of non-sense text\n",
      "The only purpose of existence is to be able to read\n",
      "using file operaitons in python\n",
      "\n"
     ]
    }
   ],
   "source": [
    "print(data)"
   ]
  },
  {
   "cell_type": "markdown",
   "id": "b549e50d-562c-421d-950b-0e1183e166ef",
   "metadata": {},
   "source": [
    "### we should close the file after reading to release the resource"
   ]
  },
  {
   "cell_type": "code",
   "execution_count": 8,
   "id": "7e07ecb0-dea1-4c7a-86f7-48f58cff6050",
   "metadata": {},
   "outputs": [],
   "source": [
    "f.close()"
   ]
  },
  {
   "cell_type": "markdown",
   "id": "b8865d76-ad82-4e1d-b78f-79b21e0db04e",
   "metadata": {},
   "source": [
    "### Putting it all together"
   ]
  },
  {
   "cell_type": "code",
   "execution_count": 9,
   "id": "450994d8-0219-4b00-b6cd-c4d676ac72f0",
   "metadata": {},
   "outputs": [],
   "source": [
    "def show_file(file_name):\n",
    "    f = open(file_name)\n",
    "    data=f.read()\n",
    "    print(data)"
   ]
  },
  {
   "cell_type": "code",
   "execution_count": 10,
   "id": "1ea381d3-9330-4a7c-bf9e-33cfb8f0794a",
   "metadata": {},
   "outputs": [
    {
     "name": "stdout",
     "output_type": "stream",
     "text": [
      "\n",
      "This is a sample text file that contains\n",
      "Few lines of non-sense text\n",
      "The only purpose of existence is to be able to read\n",
      "using file operaitons in python\n",
      "\n"
     ]
    }
   ],
   "source": [
    "show_file('sample.txt')"
   ]
  },
  {
   "cell_type": "markdown",
   "id": "b5fd5cbe-5b72-45bb-b945-51c273675dde",
   "metadata": {},
   "source": [
    "### open statement details\n",
    "\n",
    "* open statement can open a file with various mode option\n",
    "* import\n",
    "    * mode\n",
    "        * 'r' --> read (default)\n",
    "        * 'w'---> write\n",
    "        \n",
    "     * format\n",
    "         * 't' —> text mode (default)\n",
    "             * good for reading textual data\n",
    "         * 'b' —> binary mode\n",
    "             * good for binary non-textual data\n",
    "                 * images\n",
    "                 * video\n",
    "                 * zip"
   ]
  },
  {
   "cell_type": "code",
   "execution_count": 11,
   "id": "6fdea624-bac4-4b80-83f0-8fcf68626c48",
   "metadata": {},
   "outputs": [],
   "source": [
    "def copy_file( source,target):\n",
    "    s=open(source)\n",
    "    t=open(target,'w') # for writing\n",
    "    data=s.read()\n",
    "    t.write(data)\n",
    "    s.close()\n",
    "    t.close()\n",
    "    "
   ]
  },
  {
   "cell_type": "code",
   "execution_count": 12,
   "id": "3346b41e-8ec1-4e90-bef0-da665e4010f2",
   "metadata": {},
   "outputs": [],
   "source": [
    "copy_file('sample.txt','sample2.txt')"
   ]
  },
  {
   "cell_type": "code",
   "execution_count": 13,
   "id": "3217b0d4-d085-4a09-a7df-142eabbd99ce",
   "metadata": {},
   "outputs": [
    {
     "name": "stdout",
     "output_type": "stream",
     "text": [
      "\n",
      "This is a sample text file that contains\n",
      "Few lines of non-sense text\n",
      "The only purpose of existence is to be able to read\n",
      "using file operaitons in python\n",
      "\n"
     ]
    }
   ],
   "source": [
    "show_file('sample2.txt')"
   ]
  },
  {
   "cell_type": "code",
   "execution_count": 14,
   "id": "c0bad617-121e-4ddd-8d32-d0fe98d293f0",
   "metadata": {},
   "outputs": [],
   "source": [
    "#### Errors in file handling"
   ]
  },
  {
   "cell_type": "code",
   "execution_count": 15,
   "id": "77df9faa-0e53-42cf-9500-6d691999a58f",
   "metadata": {},
   "outputs": [
    {
     "ename": "UnsupportedOperation",
     "evalue": "not readable",
     "output_type": "error",
     "traceback": [
      "\u001b[0;31m---------------------------------------------------------------------------\u001b[0m",
      "\u001b[0;31mUnsupportedOperation\u001b[0m                      Traceback (most recent call last)",
      "Cell \u001b[0;32mIn[15], line 2\u001b[0m\n\u001b[1;32m      1\u001b[0m f\u001b[38;5;241m=\u001b[39m\u001b[38;5;28mopen\u001b[39m(\u001b[38;5;124m'\u001b[39m\u001b[38;5;124mnew-file.txt\u001b[39m\u001b[38;5;124m'\u001b[39m,\u001b[38;5;124m'\u001b[39m\u001b[38;5;124mw\u001b[39m\u001b[38;5;124m'\u001b[39m) \u001b[38;5;66;03m# file opened for writing only\u001b[39;00m\n\u001b[0;32m----> 2\u001b[0m data\u001b[38;5;241m=\u001b[39m\u001b[43mf\u001b[49m\u001b[38;5;241;43m.\u001b[39;49m\u001b[43mread\u001b[49m\u001b[43m(\u001b[49m\u001b[43m)\u001b[49m \u001b[38;5;66;03m# will fail\u001b[39;00m\n\u001b[1;32m      4\u001b[0m f\u001b[38;5;241m.\u001b[39mclose() \u001b[38;5;66;03m# we will never reach here!\u001b[39;00m\n",
      "\u001b[0;31mUnsupportedOperation\u001b[0m: not readable"
     ]
    }
   ],
   "source": [
    "f=open('new-file.txt','w') # file opened for writing only\n",
    "data=f.read() # will fail\n",
    "\n",
    "f.close() # we will never reach here!"
   ]
  },
  {
   "cell_type": "markdown",
   "id": "f064de5b-9caf-411c-98bf-25c3522c30e6",
   "metadata": {},
   "source": [
    "### IMPORTANT!\n",
    "\n",
    "* if we have an exception before the file is closed the file may never be closed\n",
    "* this will block it in memory\n",
    "* we must ensure that file is closed at all cost\n",
    "* there are two solutions\n",
    "\n",
    "\n",
    "### try-finally\n",
    "\n",
    "* close file in the finally block!\n"
   ]
  },
  {
   "cell_type": "code",
   "execution_count": 23,
   "id": "6e6b5ab0-348e-415d-813a-6935df38b532",
   "metadata": {},
   "outputs": [],
   "source": [
    "def show_file(file_name):\n",
    "    f=None\n",
    "    try:\n",
    "        f=open(file_name)\n",
    "        data=f.read()\n",
    "        print(data)\n",
    "    except :\n",
    "        print('error reading file')\n",
    "    finally:\n",
    "        if f:\n",
    "            f.close()"
   ]
  },
  {
   "cell_type": "code",
   "execution_count": 24,
   "id": "fe0db804-7075-47cf-bda1-c1d3211394da",
   "metadata": {},
   "outputs": [
    {
     "name": "stdout",
     "output_type": "stream",
     "text": [
      "\n",
      "This is a sample text file that contains\n",
      "Few lines of non-sense text\n",
      "The only purpose of existence is to be able to read\n",
      "using file operaitons in python\n",
      "\n"
     ]
    }
   ],
   "source": [
    "show_file('sample.txt')"
   ]
  },
  {
   "cell_type": "code",
   "execution_count": 25,
   "id": "7680c1cd-fe02-4393-869c-c9e304811204",
   "metadata": {},
   "outputs": [
    {
     "name": "stdout",
     "output_type": "stream",
     "text": [
      "error reading file\n"
     ]
    }
   ],
   "source": [
    "show_file('sample3.txt')"
   ]
  },
  {
   "cell_type": "code",
   "execution_count": 27,
   "id": "bc43831a-3d34-4cf2-877f-23474c4b1a74",
   "metadata": {},
   "outputs": [
    {
     "name": "stdout",
     "output_type": "stream",
     "text": [
      "Overwriting numbers.txt\n"
     ]
    }
   ],
   "source": [
    "%%file numbers.txt\n",
    "2\n",
    "11\n",
    "23\n",
    "17\n",
    "99\n",
    "81\n",
    "84"
   ]
  },
  {
   "cell_type": "markdown",
   "id": "b3030b95-0119-4007-8874-0eff1e750164",
   "metadata": {},
   "source": [
    "## reading file line by line"
   ]
  },
  {
   "cell_type": "code",
   "execution_count": 33,
   "id": "cc2a30a6-9140-499c-84aa-3950b9390e5f",
   "metadata": {},
   "outputs": [],
   "source": [
    "def read_numbers(file):\n",
    "    f=None\n",
    "    try:\n",
    "        f=open(file)\n",
    "        while True:\n",
    "            data=f.readline()\n",
    "            if data:\n",
    "                yield int(data)\n",
    "            else:\n",
    "                break\n",
    "    finally:\n",
    "        if f:\n",
    "            f.close()\n",
    "            print('closing the file')\n",
    "            "
   ]
  },
  {
   "cell_type": "code",
   "execution_count": 34,
   "id": "4e3fdb3c-b8d5-4156-94e1-fe4e0899c8d1",
   "metadata": {},
   "outputs": [
    {
     "name": "stdout",
     "output_type": "stream",
     "text": [
      "<class 'generator'>\n"
     ]
    }
   ],
   "source": [
    "numbers=read_numbers('numbers.txt')\n",
    "print(type(x))"
   ]
  },
  {
   "cell_type": "code",
   "execution_count": 35,
   "id": "419f34bc-b024-42c0-9bdf-d76f6c0c232d",
   "metadata": {},
   "outputs": [
    {
     "name": "stdout",
     "output_type": "stream",
     "text": [
      "2\t11\t23\t17\t99\t81\t84\tclosing the file\n"
     ]
    }
   ],
   "source": [
    "for number in numbers:\n",
    "    print(number,end='\\t')"
   ]
  },
  {
   "cell_type": "code",
   "execution_count": 36,
   "id": "8408cbac-2b32-4405-95bc-8d724ea789b1",
   "metadata": {},
   "outputs": [
    {
     "name": "stdout",
     "output_type": "stream",
     "text": [
      "Writing bad-numbers.txt\n"
     ]
    }
   ],
   "source": [
    "%%file bad-numbers.txt\n",
    "22\n",
    "44\n",
    "11\n",
    "hi\n",
    "99\n",
    "59"
   ]
  },
  {
   "cell_type": "code",
   "execution_count": 37,
   "id": "242ec824-d061-4cde-8cd7-eb3723b57647",
   "metadata": {},
   "outputs": [
    {
     "name": "stdout",
     "output_type": "stream",
     "text": [
      "22\n",
      "44\n",
      "11\n",
      "closing the file\n"
     ]
    },
    {
     "ename": "ValueError",
     "evalue": "invalid literal for int() with base 10: 'hi\\n'",
     "output_type": "error",
     "traceback": [
      "\u001b[0;31m---------------------------------------------------------------------------\u001b[0m",
      "\u001b[0;31mValueError\u001b[0m                                Traceback (most recent call last)",
      "Cell \u001b[0;32mIn[37], line 1\u001b[0m\n\u001b[0;32m----> 1\u001b[0m \u001b[38;5;28;01mfor\u001b[39;00m number \u001b[38;5;129;01min\u001b[39;00m read_numbers(\u001b[38;5;124m'\u001b[39m\u001b[38;5;124mbad-numbers.txt\u001b[39m\u001b[38;5;124m'\u001b[39m):\n\u001b[1;32m      2\u001b[0m     \u001b[38;5;28mprint\u001b[39m(number)\n",
      "Cell \u001b[0;32mIn[33], line 8\u001b[0m, in \u001b[0;36mread_numbers\u001b[0;34m(file)\u001b[0m\n\u001b[1;32m      6\u001b[0m data\u001b[38;5;241m=\u001b[39mf\u001b[38;5;241m.\u001b[39mreadline()\n\u001b[1;32m      7\u001b[0m \u001b[38;5;28;01mif\u001b[39;00m data:\n\u001b[0;32m----> 8\u001b[0m     \u001b[38;5;28;01myield\u001b[39;00m \u001b[38;5;28;43mint\u001b[39;49m\u001b[43m(\u001b[49m\u001b[43mdata\u001b[49m\u001b[43m)\u001b[49m\n\u001b[1;32m      9\u001b[0m \u001b[38;5;28;01melse\u001b[39;00m:\n\u001b[1;32m     10\u001b[0m     \u001b[38;5;28;01mbreak\u001b[39;00m\n",
      "\u001b[0;31mValueError\u001b[0m: invalid literal for int() with base 10: 'hi\\n'"
     ]
    }
   ],
   "source": [
    "for number in read_numbers('bad-numbers.txt'):\n",
    "    print(number)"
   ]
  },
  {
   "cell_type": "markdown",
   "id": "9b7f5b6a-23fe-444e-b61d-df8d7870ad76",
   "metadata": {},
   "source": [
    "## Approach #2 with statement\n",
    "\n",
    "* with statement in python is designed to act as context manager\n",
    "* it automatically closes the file once you come out of with block\n",
    "* it is a replacement of try-finally"
   ]
  },
  {
   "cell_type": "code",
   "execution_count": 39,
   "id": "fc2c5918-0e95-4952-b0bd-b37f9fc4474c",
   "metadata": {},
   "outputs": [],
   "source": [
    "def read_numbers(file):\n",
    "    \n",
    "    with open(file) as f:\n",
    "        while True:\n",
    "            data=f.readline()\n",
    "            if data:\n",
    "                yield int(data)\n",
    "            else:\n",
    "                break\n",
    "    # file automatically closed (even if exception is thrown)"
   ]
  },
  {
   "cell_type": "code",
   "execution_count": 40,
   "id": "3edc9ce1-5889-4206-a3f2-58a1e9de04fb",
   "metadata": {},
   "outputs": [
    {
     "data": {
      "text/plain": [
       "[2, 11, 23, 17, 99, 81, 84]"
      ]
     },
     "execution_count": 40,
     "metadata": {},
     "output_type": "execute_result"
    }
   ],
   "source": [
    "[ number for number in read_numbers('numbers.txt') ]"
   ]
  },
  {
   "cell_type": "code",
   "execution_count": 42,
   "id": "55c441ef-9641-45ef-8f00-05c03506d327",
   "metadata": {},
   "outputs": [
    {
     "name": "stdout",
     "output_type": "stream",
     "text": [
      "22\n",
      "44\n",
      "11\n"
     ]
    },
    {
     "ename": "ValueError",
     "evalue": "invalid literal for int() with base 10: 'hi\\n'",
     "output_type": "error",
     "traceback": [
      "\u001b[0;31m---------------------------------------------------------------------------\u001b[0m",
      "\u001b[0;31mValueError\u001b[0m                                Traceback (most recent call last)",
      "Cell \u001b[0;32mIn[42], line 1\u001b[0m\n\u001b[0;32m----> 1\u001b[0m \u001b[38;5;28;01mfor\u001b[39;00m x \u001b[38;5;129;01min\u001b[39;00m read_numbers(\u001b[38;5;124m'\u001b[39m\u001b[38;5;124mbad-numbers.txt\u001b[39m\u001b[38;5;124m'\u001b[39m):\n\u001b[1;32m      2\u001b[0m     \u001b[38;5;28mprint\u001b[39m(x)\n",
      "Cell \u001b[0;32mIn[39], line 7\u001b[0m, in \u001b[0;36mread_numbers\u001b[0;34m(file)\u001b[0m\n\u001b[1;32m      5\u001b[0m data\u001b[38;5;241m=\u001b[39mf\u001b[38;5;241m.\u001b[39mreadline()\n\u001b[1;32m      6\u001b[0m \u001b[38;5;28;01mif\u001b[39;00m data:\n\u001b[0;32m----> 7\u001b[0m     \u001b[38;5;28;01myield\u001b[39;00m \u001b[38;5;28;43mint\u001b[39;49m\u001b[43m(\u001b[49m\u001b[43mdata\u001b[49m\u001b[43m)\u001b[49m\n\u001b[1;32m      8\u001b[0m \u001b[38;5;28;01melse\u001b[39;00m:\n\u001b[1;32m      9\u001b[0m     \u001b[38;5;28;01mbreak\u001b[39;00m\n",
      "\u001b[0;31mValueError\u001b[0m: invalid literal for int() with base 10: 'hi\\n'"
     ]
    }
   ],
   "source": [
    "for x in read_numbers('bad-numbers.txt'):\n",
    "    print(x)"
   ]
  },
  {
   "cell_type": "markdown",
   "id": "45857eaa-db2c-476b-aa99-a5e559d4e0fd",
   "metadata": {},
   "source": [
    "### A generic file copy program"
   ]
  },
  {
   "cell_type": "code",
   "execution_count": 49,
   "id": "87b4f7b0-0166-4baf-b12a-64d5457baff2",
   "metadata": {},
   "outputs": [],
   "source": [
    "def file_copy(source,target):\n",
    "    with open(source, 'rb') as s : #read as binary\n",
    "        with open(target,'wb') as t: #write\n",
    "            data=None\n",
    "            while True:\n",
    "                data=s.read(512) # read max 512 bytes only\n",
    "               \n",
    "                if len(data)>0:\n",
    "                    t.write(data)\n",
    "                    print('.',end=' ')\n",
    "                else:\n",
    "                    break"
   ]
  },
  {
   "cell_type": "code",
   "execution_count": 51,
   "id": "b2a628e1-ea19-40bd-b6d5-c9fbd233503a",
   "metadata": {},
   "outputs": [
    {
     "name": "stdout",
     "output_type": "stream",
     "text": [
      ". "
     ]
    }
   ],
   "source": [
    "file_copy( 'numbers.txt', 'numbers2.txt')"
   ]
  },
  {
   "cell_type": "code",
   "execution_count": 52,
   "id": "78dc0fc1-60d6-4dc6-9a19-ccac7203765a",
   "metadata": {},
   "outputs": [
    {
     "name": "stdout",
     "output_type": "stream",
     "text": [
      ". . . . . . . . . . . . . "
     ]
    }
   ],
   "source": [
    "file_copy('09_non_oo.ipynb', '09_non_oo_2.ipynb')"
   ]
  },
  {
   "cell_type": "markdown",
   "id": "9a1099a0-2026-490a-8d2c-f558e97f6715",
   "metadata": {},
   "source": [
    "### Assignment 11.2 ~~Research Topic~~\n",
    "\n",
    "### How sith works\n",
    "\n",
    "* with creates an object \n",
    "\n",
    "```ptyhon\n",
    "with X() as x:\n",
    "    pass\n",
    "```\n",
    "\n",
    "* it does 2 things\n",
    "\n",
    "```python\n",
    "z = X()\n",
    "x = z.__enter__()\n",
    "```\n",
    "\n",
    "* when you exit with block\n",
    "\n",
    "```python\n",
    "x.__exit__(t,e,s)\n",
    "```\n",
    "\n",
    "* there parameter to exit\n",
    "    * t is type of exception thrown (or None)\n",
    "    * e the exception object thrown (or None)\n",
    "    * s is the stack trace (or None\n",
    "    \n",
    "  \n",
    " ### Assignment 11.2\n",
    "\n",
    "```python\n",
    "with Timer() as t:  # t = Timer().__enter__()\n",
    "    p=find_primes(2,20000)\n",
    "    print('total primes', len(primes))\n",
    "    \n",
    "# t.__exit__(t,e,s)\n",
    "print('total time taken', t.time_taken)\n",
    "```"
   ]
  },
  {
   "cell_type": "code",
   "execution_count": 6,
   "id": "ad3af9e9-ff54-43ce-b547-3e08e37bd222",
   "metadata": {},
   "outputs": [
    {
     "name": "stdout",
     "output_type": "stream",
     "text": [
      "total primes 2262\n",
      "total time taken 0.9113457202911377\n"
     ]
    }
   ],
   "source": [
    "import time\n",
    "\n",
    "class Timer:\n",
    "    # def __init__(self):\n",
    "    def __enter__(self):\n",
    "        self.start_time = time.time()\n",
    "        return self\n",
    "\n",
    "    def __exit__(self, exc_type, exc_val, exc_tb):\n",
    "        self.end_time = time.time()\n",
    "\n",
    "    @property\n",
    "    def time_taken(self):\n",
    "        return self.end_time - self.start_time\n",
    "\n",
    "\n",
    "def is_prime(n):\n",
    "    if n<2:\n",
    "        return False\n",
    "    for x in range(2,n):\n",
    "        if n%x==0:\n",
    "            return False\n",
    "    return True\n",
    "\n",
    "def find_primes(min,max):\n",
    "    primes=[]\n",
    "    for x in range(min,max):\n",
    "        if is_prime(x):\n",
    "            primes.append(x)\n",
    "    return primes\n",
    "\n",
    "with Timer() as t:\n",
    "    primes=find_primes(2,20000)\n",
    "    print('total primes', len(primes))\n",
    "    \n",
    "print('total time taken', t.time_taken)\n",
    "        "
   ]
  }
 ],
 "metadata": {
  "kernelspec": {
   "display_name": "Python 3 (ipykernel)",
   "language": "python",
   "name": "python3"
  },
  "language_info": {
   "codemirror_mode": {
    "name": "ipython",
    "version": 3
   },
   "file_extension": ".py",
   "mimetype": "text/x-python",
   "name": "python",
   "nbconvert_exporter": "python",
   "pygments_lexer": "ipython3",
   "version": "3.11.5"
  }
 },
 "nbformat": 4,
 "nbformat_minor": 5
}
